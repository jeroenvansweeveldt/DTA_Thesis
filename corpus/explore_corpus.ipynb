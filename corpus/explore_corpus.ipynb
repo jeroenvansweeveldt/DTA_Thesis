{
 "cells": [
  {
   "cell_type": "code",
   "execution_count": 1,
   "id": "c9b42314",
   "metadata": {},
   "outputs": [],
   "source": [
    "import json\n",
    "import os\n",
    "import pandas as pd\n",
    "\n",
    "jeake = json.load(open(\"../corpus/corpus_jeake.json\", \"r\", encoding=\"UTF-8\"))\n",
    "jeake_texts = [rec.get(\"TEXT\") for rec in jeake]\n",
    "\n",
    "marescoe_david = json.load(open(\"../corpus/corpus_marescoe-david.json\", \"r\", encoding=\"UTF-8\"))\n",
    "marescoe_david_texts = [rec.get(\"TEXT\") for rec in marescoe_david]\n",
    "marescoe_david_signoff = [rec.get(\"SIGN-OFF\") for rec in marescoe_david]\n",
    "marescoe_david_exrates = [rec.get(\"EXCHANGE_RATE\") for rec in marescoe_david]\n",
    "marescoe_david_bills = [rec.get(\"BILL\") for rec in marescoe_david]\n",
    "\n",
    "metadata_dir = \"../metadata\"\n",
    "\n",
    "if not os.path.exists(metadata_dir):\n",
    "    os.makedirs(metadata_dir)\n",
    "\n",
    "df_jeake = pd.DataFrame.from_dict(jeake)\n",
    "df_jeake.to_csv(os.path.join(metadata_dir, \"metadata_jeake.csv\"),\n",
    "                index=False\n",
    "                )\n",
    "df_marescoe_david = pd.DataFrame.from_dict(marescoe_david)\n",
    "df_marescoe_david.to_csv(os.path.join(metadata_dir, \"metadata_marescoe-david.csv\"),\n",
    "                         index=False\n",
    "                         )"
   ]
  },
  {
   "cell_type": "code",
   "execution_count": 2,
   "id": "4f4454f4",
   "metadata": {},
   "outputs": [
    {
     "name": "stdout",
     "output_type": "stream",
     "text": [
      "Ah my dear (but unkind) Heart\n",
      "\n",
      "Hath not all my love merited a line from thee to be satisfied of thy welfare? I\n",
      "have not forgotten since I was promised letters full of kisses, and that often.\n",
      "Prithee my Deare if my love deserue any thing, let me know where thou art,\n",
      "how thou dost, and when I may comfort my languishing and sorrowful heart\n",
      "with hopes to see thee thou never wentest away from me so, but wouldest tell\n",
      "me some time of returne. For my part I take God to witness I am very restles,\n",
      "discontented and cannot tell by what means to injoy any thing of my selfe\n",
      "without thee. I know not and that grieves mee whether this will come to thy\n",
      "hand, if it doenot what shall I doe, oh that I might injoy thee one night instead\n",
      "of every nights dreames on thee. I confes I live a most wretched comfortless\n",
      "solitary and indeed heartles life. Oh that my heart should have such a fresh\n",
      "spring of love, so lasting, and so coming after its deare Jewell & not decay!\n",
      "Truly it makes me astonished and amazed at my selfe. I could (but that\n",
      "experience too sadly convincedth me) have believed it impossible love could\n",
      "after so many sharp incourters, so many grand repulses, remaine unconquered\n",
      "imperfection of it first springing. But God knows I know not any\n",
      "thing thou canst doe to me, or against me, can subdue it. It hath been used\n",
      "too barbarously and heathenishly, yet it is not offended, & that addeth to my\n",
      "misery. My love me thinks tis too unnaturall to render contempt for love,\n",
      "slighting for a deare affection. Thou know it how boundless my love hath\n",
      "been, how unfeigned I need not here rehearse, and how durable the weariness\n",
      "of my many & great repulses too much to testify. Is there noe reward for\n",
      "vertue? Is there no jewell transparent but gold? Ah my Dear Heart consider\n",
      "how many have been ruined by breaking their engaged faith & promise there\n",
      "is a time for every thing and certainly if thou wast afraid of God's Judgements\n",
      "in poor Mr Harding's case I know not how it can be otherwise, may I believe\n",
      "tis much worse in mine: for I suppose he might in proces of time have married\n",
      "another, I must not. Thou wouldst be accounted iust in thy dealing, I pray\n",
      "God give thee a heart to be so to me but yet I believe never poor lover had\n",
      "more iniury and harder dealing than I have. Good my Dear Heart think upon\n",
      "me, and consider what I suffer for thy sake, poise the burden that lies on my\n",
      "heart but in thy thoughts, make but my case thine a little & weigh it in equity\n",
      "and doe not let all my life be spent in sorrows, and all comforts taken from me\n",
      "att all my Daies. I would I could but send thee one of my present bitter\n",
      "groanes or that thou mightest but for the twinkling of an eye feel my aking\n",
      "heart, surely thy closed nature could not but relent and a little dissolve from\n",
      "its frozen hardnes. The God of Heaven mollify thy hard hart and make it\n",
      "more naturall and not so stony to me. I know thou expectest mercy at Gods\n",
      "hands (which I pray God grant in the hour at death & day of Judgement) but\n",
      "how canst though looke for any & exercise so much cruelty and falseness.\n",
      "Indeed if there were not another world it would not at all matter what our\n",
      "actions were, but my Love there will be atime of searching all the secrets of\n",
      "our hearts, no covers nor pretences can cloake us from the all seeing eye of\n",
      "God. Didst thou ever read or canst thou believe faithless & merciles shall find\n",
      "mercy without repentance or amendment? Thous hast separated mee from\n",
      "the society of men & from thy presence I must be excluded. What heart is able\n",
      "to beare and endure these, this hard measure and not complain? Or who can\n",
      "undergo so great a punishment. Where poor Mr Harding had one trouble I\n",
      "must have 20. The God of heaven some way put an end to my wretchedness\n",
      "or my life or some way helpe me. I am not able to sustaine this cruelty. Poor\n",
      "I that want nothing can be laid to my charge, but that I am not borne toa\n",
      "great inheritance, that only abound in love and poverty, the last [word lost]\n",
      "the former filthy and of noe beauty. A better fortune [may] make a lesser love\n",
      "far more worthy in thy eyes, have a better lustere though never to good a\n",
      "relish. I waited a Saturday [to see] poor little Bab but when I consider her\n",
      "parting from mee [words lost] it even makes me curse the day of my birth &\n",
      "the hour when it was said a son is borne. She cald moda, moda, moda*\n",
      "{words lost] shall not do away! Truly I am not satisfied at her [word lost]\n",
      "though I found the old woman having her on her knee, but the house is old\n",
      "& the roofe is much unthatcht and open to the cold & raine. Good dear heart\n",
      "therefore take some care of thy deare babe she yet complains of her poor\n",
      "belly, but is merryish & something chearfull [words illegible] a teach as well\n",
      "as she can speake, & I beseech & conjured thee to returne home again thy\n",
      "business being dispatcht that was undertaken and make noe quivocations\n",
      "with my poor heart, nor delaies to take care of thy dear Image. I would to\n",
      "god either time or sorrow would cut the thred of my dismall dayes, or\n",
      "consummate the ioys & desires of my too much abjured though yet valient\n",
      "heart, No more now.\n",
      "\n",
      "From that hand whose guide\n",
      "\n",
      "is clouded with tears to thinke\n",
      "\n",
      "of thy cruelty, yet must ever be\n",
      "thine till he be not\n",
      "Richard Hartshorne,\n",
      "\n",
      "For my much honoured and very good friend Mrs Barbara Harding, these in\n",
      "London\n"
     ]
    }
   ],
   "source": [
    "print(jeake_texts[23])"
   ]
  },
  {
   "cell_type": "code",
   "execution_count": 3,
   "id": "14cda4a0",
   "metadata": {},
   "outputs": [
    {
     "name": "stdout",
     "output_type": "stream",
     "text": [
      "Rye Feb 2 1685/6\n",
      "My Dear\n",
      "These will serve to let you know that my Cousin Freebody is safly I hope\n",
      "delivered of a Bage Daughter this day it being about a quarter of an hour\n",
      "past one of the clocke as neer as could be ghessed little Betty free from harm\n",
      "still thanks be to God My Dear I received your letter it was very acceptable to\n",
      "me in regard I heard of your welfare and that of my Father with other relations\n",
      "but I am extreamly dissatisfied at your so long abscence but am in hopes\n",
      "your return will be ere long else it would be more insupportable to me then\n",
      "now as for Robert Bartholomew of Hasting I have heard nothing from him\n",
      "since your departure I did hear that he was gone out of town but know not\n",
      "whether it be certain or not and have not time to enquire at present pray my\n",
      "Dear let me have a letter from you befor your return if possible for I long both\n",
      "to hear from you and see you as soon as your affairs will permit you; in the\n",
      "interim be pleased to accept of my real and unfeigned love to your dear self\n",
      "with duty to my father and service to those you shall think fit. I am my Dear\n",
      "your real & truly affectionate wife\n",
      "Elisabeth Jeake.\n",
      "\n",
      "On thing I forgot to instance in my last to you when I mentioned my hangings\n",
      "I must desire you to buy some of the same of the carpet enough to cover three\n",
      "of the little stools I have since sent to know if Robert Bartholomew were gone\n",
      "as [heard but I find he is still in town but waits only for a fair wind which he\n",
      "expects every day little Betty remembers her duty to her grandfather and you\n",
      "and sends you a kiss my Mother presents her service to my Father with love\n",
      "to your self and others. It grieves me my Dear to leave of writing when I consider\n",
      "it is to you [word lost] paper will not permit me to write so much as I\n",
      "would. I must [th]erefore be forced to leave though much against my will but\n",
      "I fear you [will] tax me with impertinence for what I have already wrote but I\n",
      "hope [you] will excuse this.\n",
      "I could wish you would write me a letter to last a day ere it be read. Methinks\n",
      "you are to brief that you cannot fit half as [damaged section]\n",
      "\n",
      "Excuse my evil writing but I slept but half an hour last night [damaged\n",
      "section].\n",
      "\n",
      "To Mr Samuel Jeak at Mr John Jays at the Golden Lion in Fenchurch Street\n",
      "in London\n"
     ]
    }
   ],
   "source": [
    "print(jeake_texts[218])"
   ]
  },
  {
   "cell_type": "code",
   "execution_count": 4,
   "id": "141926c9",
   "metadata": {},
   "outputs": [
    {
     "name": "stdout",
     "output_type": "stream",
     "text": [
      "In his last letter, of 30 August, the late Mr Marescoe also enclosed the sale account of the iron\n",
      "which was sent with Hans Stoltervoet. I have looked it over and agreed the account for net\n",
      "proceeds of £476 19s 3d. According to our agreement with the late Marescoe please remit\n",
      "the money either to the widow of Liebert Wolters at Hamburg or to Mr Abraham Bex at\n",
      "Amsterdam, wherever the profit for me seems likely to be the greater.\n",
      "\n",
      "I have now received Mr Peter Joye’s letter of 9 September, informing me of Mr\n",
      "Marescoe’s death—may the Lord grant him a blessed resurrection and us also when the time\n",
      "comes. Your sorrow touches me to the heart, but we must bear patiently with the will of the\n",
      "Lord, against which there is nothing we can do.\n",
      "\n",
      "I have been delighted to learn of the arrival of Capt. Anders Beursen with my Slb. 238.12\n",
      "of iron—God be praised! I hope it has come to a good market. There are some voyages to\n",
      "Guinea fitting out in [England] so I have no doubt that this consignment of voyage iron will\n",
      "be found useful, particularly as I have had all the defective bars picked out during the weighing. God be with you.\n"
     ]
    }
   ],
   "source": [
    "print(marescoe_david_texts[135])"
   ]
  },
  {
   "cell_type": "code",
   "execution_count": 5,
   "id": "5720779a",
   "metadata": {},
   "outputs": [
    {
     "name": "stdout",
     "output_type": "stream",
     "text": [
      "I find I have your letters of the 10th and 24th of March, from which I have seen the manner in\n",
      "which English shipping is going to proceed. But it seems to have been overlooked that that is\n",
      "all right as long as they are chartered by Englishmen; but if they are chartered by others who\n",
      "are also friends of Denmark, how are they going to manage? If they lade in English ships they\n",
      "are going to need other certificates, and in my opinion that is not very advantageous for the\n",
      "English ships and not many are going to be chartered by foreigners. However, as some people\n",
      "were of a different opinion a few have recently passed the Sound which were loaded here, so\n",
      "everything is continuing on the old basis.(1)\n",
      "\n",
      "I have written to Sweden to inform them along the lines which you advised and all the iron\n",
      "which has been kept back will be shipped for your account. I shall sell it solely to you and you\n",
      "can be the guarantor or insurer against all risks and take it over on its arrival in return for a\n",
      "gain of 14 per cent.\n",
      "\n",
      "Winter is now ending over there and they will soon have open waters. There are also\n",
      "about 300 slb of pan iron lying at Stockholm which I would send to you with the first\n",
      "available English ships if any were lying there and if the freight charges were reasonably\n",
      "cheap. But at the moment there are still about 600 slb of ordinary iron over and above that,\n",
      "which I must consider first. Furthermore, I have given orders for improvements in the future\n",
      "manufacture of pan iron so that the bars are more even, for they seem not to have been\n",
      "turning out smooth. I have no doubt that those which are coming will be entirely\n",
      "satisfactory.\n",
      "\n",
      "As I have to pay rather a lot of Swedish bills of exchange during the month of May I now\n",
      "have to ask you if can draw on you £500 at two or three usances. I would be greatly obliged\n",
      "if you could accommodate me. And please let me know at once how much premium is at\n",
      "present being demanded [for insurance] from Stockholm to London and to Amsterdam in\n",
      "English shipping.\n",
      "\n",
      "At present there is little news. Il est vray qu'il es fort difficile de dire qui aura l’avantage,\n",
      "neanmoin je suis persuadé par les predictions qu'on m’en fait tenir qu’elle tomberont du coste\n",
      "de la france et qu’avant le mois de Novemb. nous pouvions bien voir grand Changemt. et qui\n",
      "sait si ce ne sera pas en Septemb. qu’au temp on ne se peut pas tant arreter mais avec le temp le\n",
      "tout reussira pour le bien de l’eglise de Dieu nonobstant qu’on ne fait que cultiver tout le\n",
      "contraire et que des Grande miseres la doivent preseder.\n",
      "\n",
      "The letters from France speak of a heavy incursion of the French into the Waalloon\n",
      "country against the defences there which are all in fire and flame.” The soldiers are suffering\n",
      "great misery in a place where they have been repulsed by a Dutch regiment which lay there,\n",
      "but it was hard fought and according to another letter which has since arrived three regiments\n",
      "(two Dutch and one Spanish) have fallen, and it is said that 12.000 to 15.000 men are dead.\n",
      "\n",
      "I remain, &c.\n"
     ]
    }
   ],
   "source": [
    "print(marescoe_david_texts[278])"
   ]
  },
  {
   "cell_type": "code",
   "execution_count": 6,
   "id": "a2344476",
   "metadata": {},
   "outputs": [
    {
     "name": "stdout",
     "output_type": "stream",
     "text": [
      "For the last five days there has been seen here, for three hours every midnight, a comet-star\n",
      "rising in the north-east among the stars on high. It is about an ell long and hovers a little\n",
      "towards the due-north. What this may signify the good Lord alone knows, to whom I pray\n",
      "that He may keep you in good health, and closing, remain, &c.\n"
     ]
    }
   ],
   "source": [
    "print(marescoe_david_signoff[353])"
   ]
  },
  {
   "cell_type": "code",
   "execution_count": 7,
   "id": "ffc2a429",
   "metadata": {},
   "outputs": [
    {
     "name": "stdout",
     "output_type": "stream",
     "text": [
      "With hearty regards, may God protect you, we remain, &c.\n"
     ]
    }
   ],
   "source": [
    "print(marescoe_david_signoff[387])"
   ]
  },
  {
   "cell_type": "code",
   "execution_count": 8,
   "id": "95b303a0",
   "metadata": {},
   "outputs": [
    {
     "name": "stdout",
     "output_type": "stream",
     "text": [
      "Tar; Pitch\n",
      "Shipped to London from Stockholm: (Lasts: barrels); (Lasts: barrels)\n",
      "11 June with Hans Tenissen 38: 4 (pitch); 11:0 (tar)\n",
      "29 ditto Alexander Davidson 36: 0 (tar) - 10:0 (pitch);\n",
      "29 ditto Alexander Davidson 36: 0\n",
      "15 August And. Jacobsen 103: 0 (tar) - 32:0 (pitch);\n",
      "20 ditto Jolle T’jersen 52:8 (tar) - 17:0 (pitch);\n",
      "to Yarmouth:\n",
      "1 October Pieter Cornel[issen] 60: 12 (tar) - 20: 0 (pitch);\n",
      "to Hull:\n",
      "23 ditto Hindr. Hoyer 57: 4 (tar) - 30: 1 (pitch);\n",
      "to London:\n",
      "29 ditto Oloff Ericksen 31: 5 (tar) - 12:0 (pitch);\n",
      "13 November Jurgen Kohne --- (tar) - 24: 7 (pitch);\n",
      "404: 6 (tar) - 170: 8 (pitch)\n",
      "According to contract, 1 Last of Tar @ £5 £2.020;\n",
      "According to contract, 1 Last of Pitch @ £8 £1.364;\n",
      "(subtotal) £3.384;\n",
      "From which Mr Simons has drawn £1.300;\n",
      "remains £2.084;\n",
      "In the new year Marescoe will accept £2.000;\n",
      "(total) £4.084.\n",
      "A note of the amounts drawn on Mr Simons and when the same will fall due:\n",
      "Falling due Anno 1668 1 December - RD 2,077.45 - f. 5,194.15;\n",
      "\" \" \" 1669 1 January - RD 2,515.00 - f. 6,287.10;\n",
      "\" \" \" 1 February - RD 17,000.00 - f. 42,500.00;\n",
      "\" \" \" 1 March - RD 5,000.00 - f. 12,500.00;\n",
      "\" \" \" 17 April - RD 1,500.00 - f. 3,750.00;\n",
      "\" \" \" 24 May - RD 1,100.00 - f. 2,750.00;\n",
      "(subtotal) RD 29,192.45 - f. 72,982.05;\n",
      "Premium on f. 23,000 for Rochelle: 808.10;\n",
      "(total) f. 73,790.15.\n"
     ]
    }
   ],
   "source": [
    "print(marescoe_david_bills[64])"
   ]
  },
  {
   "cell_type": "code",
   "execution_count": 9,
   "id": "bd8e2528",
   "metadata": {},
   "outputs": [
    {
     "name": "stdout",
     "output_type": "stream",
     "text": [
      "[London]: 33s 8-9g\n",
      "Amsterdam: 33 1/16st\n",
      "Antwerp: 32 3/4st\n",
      "Venice: 91d at usance.\n"
     ]
    }
   ],
   "source": [
    "print(marescoe_david_exrates[14])"
   ]
  }
 ],
 "metadata": {
  "kernelspec": {
   "display_name": "Python 3.8.8 ('base')",
   "language": "python",
   "name": "python3"
  },
  "language_info": {
   "codemirror_mode": {
    "name": "ipython",
    "version": 3
   },
   "file_extension": ".py",
   "mimetype": "text/x-python",
   "name": "python",
   "nbconvert_exporter": "python",
   "pygments_lexer": "ipython3",
   "version": "3.10.8"
  },
  "vscode": {
   "interpreter": {
    "hash": "10b89ad0bd868218be2facbb3c9dbb2759ddf993273152469ec3e1e158edab1a"
   }
  }
 },
 "nbformat": 4,
 "nbformat_minor": 5
}
