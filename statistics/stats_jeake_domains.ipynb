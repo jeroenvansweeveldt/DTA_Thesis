{
 "cells": [
  {
   "cell_type": "code",
   "execution_count": 1,
   "id": "c27041f5",
   "metadata": {
    "vscode": {
     "languageId": "r"
    }
   },
   "outputs": [
    {
     "name": "stderr",
     "output_type": "stream",
     "text": [
      "Loading required package: Matrix\n",
      "Loading required package: carData\n",
      "lattice theme set by effectsTheme()\n",
      "See ?effectsTheme for details.\n",
      "Loading required package: MASS\n"
     ]
    }
   ],
   "source": [
    "library(lme4) # necessary for model fitting: glm\n",
    "library(effects) # necessary for making effect plots\n",
    "library(blmeco) # necessary for calculating dispersion with GLMM models"
   ]
  },
  {
   "cell_type": "markdown",
   "id": "0cfba3ad",
   "metadata": {},
   "source": [
    "# Statistics based on correspondent connection types (domain types)\n",
    "\n",
    "The frequencies in the columns (e.g. \"hit_freq\") represent the number of divine appeals per 100,000 words of total words per correspondent connection type. This notebook analyses the hit frequencies of the different domains in which divine appeals are made (travel & transport, trade & finances, health & sickness, politics, social)"
   ]
  },
  {
   "cell_type": "code",
   "execution_count": 11,
   "id": "1b46587b",
   "metadata": {
    "vscode": {
     "languageId": "r"
    }
   },
   "outputs": [],
   "source": [
    "jeake_conn <- read.delim(file = \"stats_jeake.tsv\", sep = \"\\t\", header = T)"
   ]
  },
  {
   "cell_type": "code",
   "execution_count": 3,
   "id": "de471832",
   "metadata": {
    "vscode": {
     "languageId": "r"
    }
   },
   "outputs": [
    {
     "data": {
      "text/html": [
       "<table>\n",
       "<thead><tr><th scope=col>id</th><th scope=col>hit_freq</th><th scope=col>conf_freq</th><th scope=col>approve_freq</th><th scope=col>fixed_freq</th><th scope=col>object_freq</th><th scope=col>grat_freq</th><th scope=col>pray_freq</th><th scope=col>preserve_freq</th><th scope=col>presupp_freq</th><th scope=col>...</th><th scope=col>sender_generation</th><th scope=col>addressee_generation</th><th scope=col>sender_is_older</th><th scope=col>sender_over_40</th><th scope=col>addressee_over_40</th><th scope=col>age_gap_over_20</th><th scope=col>age_gap</th><th scope=col>gender_sender</th><th scope=col>gender_addressee</th><th scope=col>gender_pair</th></tr></thead>\n",
       "<tbody>\n",
       "\t<tr><td>1          </td><td>101.41     </td><td>0          </td><td>0          </td><td>12.68      </td><td>0          </td><td>0          </td><td> 0.00      </td><td> 0.00      </td><td>63.38      </td><td>...        </td><td>1600-1640  </td><td>UNK        </td><td>UNK        </td><td>FALSE      </td><td>UNK        </td><td>UNK        </td><td>NA         </td><td>MALE       </td><td>FEMALE     </td><td>MALE-FEMALE</td></tr>\n",
       "\t<tr><td>3          </td><td>240.84     </td><td>0          </td><td>0          </td><td>12.68      </td><td>0          </td><td>0          </td><td>63.38      </td><td>25.35      </td><td> 0.00      </td><td>...        </td><td>1600-1640  </td><td>UNK        </td><td>UNK        </td><td>FALSE      </td><td>MULT       </td><td>UNK        </td><td>NA         </td><td>MALE       </td><td>MULT       </td><td>MALE-MULT  </td></tr>\n",
       "\t<tr><td>5          </td><td>  0.00     </td><td>0          </td><td>0          </td><td> 0.00      </td><td>0          </td><td>0          </td><td> 0.00      </td><td> 0.00      </td><td> 0.00      </td><td>...        </td><td>1600-1640  </td><td>1600-1640  </td><td>TRUE       </td><td>FALSE      </td><td>FALSE      </td><td>FALSE      </td><td>NA         </td><td>MALE       </td><td>FEMALE     </td><td>MALE-FEMALE</td></tr>\n",
       "\t<tr><td>6          </td><td> 25.35     </td><td>0          </td><td>0          </td><td> 0.00      </td><td>0          </td><td>0          </td><td> 0.00      </td><td> 0.00      </td><td> 0.00      </td><td>...        </td><td>1600-1640  </td><td>1600-1640  </td><td>FALSE      </td><td>FALSE      </td><td>FALSE      </td><td>FALSE      </td><td> 7         </td><td>FEMALE     </td><td>MALE       </td><td>FEMALE-MALE</td></tr>\n",
       "\t<tr><td>7          </td><td> 12.68     </td><td>0          </td><td>0          </td><td> 0.00      </td><td>0          </td><td>0          </td><td> 0.00      </td><td> 0.00      </td><td> 0.00      </td><td>...        </td><td>1600-1640  </td><td>1600-1640  </td><td>TRUE       </td><td>FALSE      </td><td>FALSE      </td><td>FALSE      </td><td> 7         </td><td>MALE       </td><td>FEMALE     </td><td>MALE-FEMALE</td></tr>\n",
       "\t<tr><td>8          </td><td>  0.00     </td><td>0          </td><td>0          </td><td> 0.00      </td><td>0          </td><td>0          </td><td> 0.00      </td><td> 0.00      </td><td> 0.00      </td><td>...        </td><td>1600-1640  </td><td>1600-1640  </td><td>FALSE      </td><td>FALSE      </td><td>FALSE      </td><td>FALSE      </td><td> 7         </td><td>MALE       </td><td>FEMALE     </td><td>MALE-FEMALE</td></tr>\n",
       "</tbody>\n",
       "</table>\n"
      ],
      "text/latex": [
       "\\begin{tabular}{r|lllllllllllllllllllllllllllllllllll}\n",
       " id & hit\\_freq & conf\\_freq & approve\\_freq & fixed\\_freq & object\\_freq & grat\\_freq & pray\\_freq & preserve\\_freq & presupp\\_freq & ... & sender\\_generation & addressee\\_generation & sender\\_is\\_older & sender\\_over\\_40 & addressee\\_over\\_40 & age\\_gap\\_over\\_20 & age\\_gap & gender\\_sender & gender\\_addressee & gender\\_pair\\\\\n",
       "\\hline\n",
       "\t 1           & 101.41      & 0           & 0           & 12.68       & 0           & 0           &  0.00       &  0.00       & 63.38       & ...         & 1600-1640   & UNK         & UNK         & FALSE       & UNK         & UNK         & NA          & MALE        & FEMALE      & MALE-FEMALE\\\\\n",
       "\t 3           & 240.84      & 0           & 0           & 12.68       & 0           & 0           & 63.38       & 25.35       &  0.00       & ...         & 1600-1640   & UNK         & UNK         & FALSE       & MULT        & UNK         & NA          & MALE        & MULT        & MALE-MULT  \\\\\n",
       "\t 5           &   0.00      & 0           & 0           &  0.00       & 0           & 0           &  0.00       &  0.00       &  0.00       & ...         & 1600-1640   & 1600-1640   & TRUE        & FALSE       & FALSE       & FALSE       & NA          & MALE        & FEMALE      & MALE-FEMALE\\\\\n",
       "\t 6           &  25.35      & 0           & 0           &  0.00       & 0           & 0           &  0.00       &  0.00       &  0.00       & ...         & 1600-1640   & 1600-1640   & FALSE       & FALSE       & FALSE       & FALSE       &  7          & FEMALE      & MALE        & FEMALE-MALE\\\\\n",
       "\t 7           &  12.68      & 0           & 0           &  0.00       & 0           & 0           &  0.00       &  0.00       &  0.00       & ...         & 1600-1640   & 1600-1640   & TRUE        & FALSE       & FALSE       & FALSE       &  7          & MALE        & FEMALE      & MALE-FEMALE\\\\\n",
       "\t 8           &   0.00      & 0           & 0           &  0.00       & 0           & 0           &  0.00       &  0.00       &  0.00       & ...         & 1600-1640   & 1600-1640   & FALSE       & FALSE       & FALSE       & FALSE       &  7          & MALE        & FEMALE      & MALE-FEMALE\\\\\n",
       "\\end{tabular}\n"
      ],
      "text/markdown": [
       "\n",
       "| id | hit_freq | conf_freq | approve_freq | fixed_freq | object_freq | grat_freq | pray_freq | preserve_freq | presupp_freq | ... | sender_generation | addressee_generation | sender_is_older | sender_over_40 | addressee_over_40 | age_gap_over_20 | age_gap | gender_sender | gender_addressee | gender_pair |\n",
       "|---|---|---|---|---|---|---|---|---|---|---|---|---|---|---|---|---|---|---|---|---|\n",
       "| 1           | 101.41      | 0           | 0           | 12.68       | 0           | 0           |  0.00       |  0.00       | 63.38       | ...         | 1600-1640   | UNK         | UNK         | FALSE       | UNK         | UNK         | NA          | MALE        | FEMALE      | MALE-FEMALE |\n",
       "| 3           | 240.84      | 0           | 0           | 12.68       | 0           | 0           | 63.38       | 25.35       |  0.00       | ...         | 1600-1640   | UNK         | UNK         | FALSE       | MULT        | UNK         | NA          | MALE        | MULT        | MALE-MULT   |\n",
       "| 5           |   0.00      | 0           | 0           |  0.00       | 0           | 0           |  0.00       |  0.00       |  0.00       | ...         | 1600-1640   | 1600-1640   | TRUE        | FALSE       | FALSE       | FALSE       | NA          | MALE        | FEMALE      | MALE-FEMALE |\n",
       "| 6           |  25.35      | 0           | 0           |  0.00       | 0           | 0           |  0.00       |  0.00       |  0.00       | ...         | 1600-1640   | 1600-1640   | FALSE       | FALSE       | FALSE       | FALSE       |  7          | FEMALE      | MALE        | FEMALE-MALE |\n",
       "| 7           |  12.68      | 0           | 0           |  0.00       | 0           | 0           |  0.00       |  0.00       |  0.00       | ...         | 1600-1640   | 1600-1640   | TRUE        | FALSE       | FALSE       | FALSE       |  7          | MALE        | FEMALE      | MALE-FEMALE |\n",
       "| 8           |   0.00      | 0           | 0           |  0.00       | 0           | 0           |  0.00       |  0.00       |  0.00       | ...         | 1600-1640   | 1600-1640   | FALSE       | FALSE       | FALSE       | FALSE       |  7          | MALE        | FEMALE      | MALE-FEMALE |\n",
       "\n"
      ],
      "text/plain": [
       "  id hit_freq conf_freq approve_freq fixed_freq object_freq grat_freq pray_freq\n",
       "1 1  101.41   0         0            12.68      0           0          0.00    \n",
       "2 3  240.84   0         0            12.68      0           0         63.38    \n",
       "3 5    0.00   0         0             0.00      0           0          0.00    \n",
       "4 6   25.35   0         0             0.00      0           0          0.00    \n",
       "5 7   12.68   0         0             0.00      0           0          0.00    \n",
       "6 8    0.00   0         0             0.00      0           0          0.00    \n",
       "  preserve_freq presupp_freq ... sender_generation addressee_generation\n",
       "1  0.00         63.38        ... 1600-1640         UNK                 \n",
       "2 25.35          0.00        ... 1600-1640         UNK                 \n",
       "3  0.00          0.00        ... 1600-1640         1600-1640           \n",
       "4  0.00          0.00        ... 1600-1640         1600-1640           \n",
       "5  0.00          0.00        ... 1600-1640         1600-1640           \n",
       "6  0.00          0.00        ... 1600-1640         1600-1640           \n",
       "  sender_is_older sender_over_40 addressee_over_40 age_gap_over_20 age_gap\n",
       "1 UNK             FALSE          UNK               UNK             NA     \n",
       "2 UNK             FALSE          MULT              UNK             NA     \n",
       "3 TRUE            FALSE          FALSE             FALSE           NA     \n",
       "4 FALSE           FALSE          FALSE             FALSE            7     \n",
       "5 TRUE            FALSE          FALSE             FALSE            7     \n",
       "6 FALSE           FALSE          FALSE             FALSE            7     \n",
       "  gender_sender gender_addressee gender_pair\n",
       "1 MALE          FEMALE           MALE-FEMALE\n",
       "2 MALE          MULT             MALE-MULT  \n",
       "3 MALE          FEMALE           MALE-FEMALE\n",
       "4 FEMALE        MALE             FEMALE-MALE\n",
       "5 MALE          FEMALE           MALE-FEMALE\n",
       "6 MALE          FEMALE           MALE-FEMALE"
      ]
     },
     "metadata": {},
     "output_type": "display_data"
    },
    {
     "name": "stdout",
     "output_type": "stream",
     "text": [
      "'data.frame':\t277 obs. of  35 variables:\n",
      " $ id                  : int  1 3 5 6 7 8 10 11 12 13 ...\n",
      " $ hit_freq            : num  101.4 240.8 0 25.4 12.7 ...\n",
      " $ conf_freq           : num  0 0 0 0 0 0 0 0 0 0 ...\n",
      " $ approve_freq        : num  0 0 0 0 0 0 0 0 0 0 ...\n",
      " $ fixed_freq          : num  12.7 12.7 0 0 0 ...\n",
      " $ object_freq         : num  0 0 0 0 0 0 0 0 0 0 ...\n",
      " $ grat_freq           : num  0 0 0 0 0 0 0 0 0 0 ...\n",
      " $ pray_freq           : num  0 63.4 0 0 0 ...\n",
      " $ preserve_freq       : num  0 25.4 0 0 0 ...\n",
      " $ presupp_freq        : num  63.4 0 0 0 0 ...\n",
      " $ resign_freq         : num  12.7 25.4 0 12.7 12.7 ...\n",
      " $ travel_freq         : num  0 0 0 0 0 0 0 0 0 0 ...\n",
      " $ trade_freq          : num  0 0 0 0 0 0 0 0 0 0 ...\n",
      " $ health_freq         : num  88.7 12.7 0 0 0 ...\n",
      " $ politics_freq       : num  0 76.1 0 0 0 ...\n",
      " $ social_freq         : num  0 12.7 0 12.7 12.7 ...\n",
      " $ connection          : Factor w/ 5 levels \"BUSINESS; CORRESPONDENT\",..: 5 5 5 5 5 5 5 4 4 4 ...\n",
      " $ sender              : Factor w/ 33 levels \"ANN WIGHTMAN\",..: 30 30 30 10 30 30 10 30 10 30 ...\n",
      " $ addressee           : Factor w/ 21 levels \"BARBARA HARTSHORNE\",..: 17 10 9 21 9 9 21 9 21 9 ...\n",
      " $ pair                : Factor w/ 59 levels \"ANN WIGHTMAN, ELIZABETH JEAKE\",..: 25 25 23 45 27 46 47 48 59 41 ...\n",
      " $ year                : int  1640 NA 1650 1650 1650 1650 1650 NA 1651 1651 ...\n",
      " $ quinquennial        : Factor w/ 14 levels \"\",\"1640-1644\",..: 2 1 3 3 3 3 3 1 3 3 ...\n",
      " $ decennium           : Factor w/ 11 levels \"\",\"1640-1649\",..: 2 1 3 3 3 3 3 3 3 3 ...\n",
      " $ sender_birth        : Factor w/ 9 levels \"1623\",\"1630\",..: 1 1 1 2 1 1 2 1 2 1 ...\n",
      " $ addressee_birth_date: Factor w/ 10 levels \"1623\",\"1630\",..: 10 9 2 1 2 2 1 2 1 2 ...\n",
      " $ sender_generation   : Factor w/ 4 levels \"1600-1640\",\"1640-1680\",..: 1 1 1 1 1 1 1 1 1 1 ...\n",
      " $ addressee_generation: Factor w/ 5 levels \"1600-1640\",\"1640-1680\",..: 5 5 1 1 1 1 1 1 1 1 ...\n",
      " $ sender_is_older     : Factor w/ 4 levels \"FALSE\",\"MULT\",..: 4 4 3 1 3 1 1 3 1 3 ...\n",
      " $ sender_over_40      : Factor w/ 3 levels \"FALSE\",\"TRUE\",..: 1 1 1 1 1 1 1 1 1 1 ...\n",
      " $ addressee_over_40   : Factor w/ 4 levels \"FALSE\",\"MULT\",..: 4 2 1 1 1 1 1 1 1 1 ...\n",
      " $ age_gap_over_20     : Factor w/ 4 levels \"FALSE\",\"MULT\",..: 4 4 1 1 1 1 1 1 1 1 ...\n",
      " $ age_gap             : int  NA NA NA 7 7 7 7 7 7 7 ...\n",
      " $ gender_sender       : Factor w/ 2 levels \"FEMALE\",\"MALE\": 2 2 2 1 2 2 1 2 1 2 ...\n",
      " $ gender_addressee    : Factor w/ 3 levels \"FEMALE\",\"MALE\",..: 1 3 1 2 1 1 2 1 2 1 ...\n",
      " $ gender_pair         : Factor w/ 6 levels \"FEMALE-FEMALE\",..: 4 6 4 2 4 4 2 4 2 4 ...\n"
     ]
    }
   ],
   "source": [
    "head(jeake_conn)\n",
    "\n",
    "str(jeake_conn)"
   ]
  },
  {
   "cell_type": "markdown",
   "id": "b465bb83",
   "metadata": {},
   "source": [
    "The \"id\" and \"year\" columns should be cast as factors."
   ]
  },
  {
   "cell_type": "code",
   "execution_count": 12,
   "id": "18c06296",
   "metadata": {
    "vscode": {
     "languageId": "r"
    }
   },
   "outputs": [
    {
     "name": "stdout",
     "output_type": "stream",
     "text": [
      " Factor w/ 277 levels \"1\",\"3\",\"5\",\"6\",..: 1 2 3 4 5 6 7 8 9 10 ...\n",
      " Factor w/ 30 levels \"1640\",\"1650\",..: 1 NA 2 2 2 2 2 NA 3 3 ...\n"
     ]
    }
   ],
   "source": [
    "jeake_conn$id <- as.factor(jeake_conn$id)\n",
    "str(jeake_conn$id)\n",
    "\n",
    "jeake_conn$year <- as.factor(jeake_conn$year)\n",
    "str(jeake_conn$year)"
   ]
  },
  {
   "cell_type": "code",
   "execution_count": 5,
   "id": "5125daf3",
   "metadata": {
    "vscode": {
     "languageId": "r"
    }
   },
   "outputs": [],
   "source": [
    "jeake_conn <- na.omit(jeake_conn[!is.na(jeake_conn$year), ])"
   ]
  },
  {
   "cell_type": "code",
   "execution_count": 6,
   "id": "5e81f176",
   "metadata": {
    "vscode": {
     "languageId": "r"
    }
   },
   "outputs": [
    {
     "name": "stdout",
     "output_type": "stream",
     "text": [
      " Factor w/ 3 levels \"BUSINESS; FRIEND\",..: 3 3 3 3 3 3 3 3 3 3 ...\n"
     ]
    }
   ],
   "source": [
    "jeake_conn <- subset(jeake_conn, !(grepl(\"FRIEND\", connection) & connection != \"BUSINESS; FRIEND\"))\n",
    "jeake_conn$connection <- droplevels(jeake_conn$connection)\n",
    "\n",
    "str(jeake_conn$connection)"
   ]
  },
  {
   "cell_type": "code",
   "execution_count": 13,
   "id": "25bdc04e",
   "metadata": {
    "vscode": {
     "languageId": "r"
    }
   },
   "outputs": [
    {
     "data": {
      "text/html": [
       "277"
      ],
      "text/latex": [
       "277"
      ],
      "text/markdown": [
       "277"
      ],
      "text/plain": [
       "[1] 277"
      ]
     },
     "metadata": {},
     "output_type": "display_data"
    },
    {
     "data": {
      "text/html": [
       "277"
      ],
      "text/latex": [
       "277"
      ],
      "text/markdown": [
       "277"
      ],
      "text/plain": [
       "[1] 277"
      ]
     },
     "metadata": {},
     "output_type": "display_data"
    },
    {
     "data": {
      "text/html": [
       "TRUE"
      ],
      "text/latex": [
       "TRUE"
      ],
      "text/markdown": [
       "TRUE"
      ],
      "text/plain": [
       "[1] TRUE"
      ]
     },
     "metadata": {},
     "output_type": "display_data"
    }
   ],
   "source": [
    "# test for data independence\n",
    "\n",
    "length(jeake_conn$id)\n",
    "length(unique(jeake_conn$id))\n",
    "\n",
    "length(jeake_conn$id) == length(unique(jeake_conn$id))"
   ]
  },
  {
   "cell_type": "code",
   "execution_count": 14,
   "id": "5fc7518c",
   "metadata": {
    "vscode": {
     "languageId": "r"
    }
   },
   "outputs": [
    {
     "data": {
      "text/plain": [
       "\n",
       "\tShapiro-Wilk normality test\n",
       "\n",
       "data:  jeake_conn$travel_freq\n",
       "W = 0.11895, p-value < 2.2e-16\n"
      ]
     },
     "metadata": {},
     "output_type": "display_data"
    }
   ],
   "source": [
    "# test for normality\n",
    "\n",
    "shapiro.test(jeake_conn$travel_freq)"
   ]
  },
  {
   "cell_type": "markdown",
   "id": "890aa299",
   "metadata": {},
   "source": [
    "The data is not normally distributed. "
   ]
  },
  {
   "cell_type": "code",
   "execution_count": 9,
   "id": "c2a2d58f",
   "metadata": {
    "vscode": {
     "languageId": "r"
    }
   },
   "outputs": [
    {
     "data": {
      "text/html": [
       "'age_gap_over_20:'"
      ],
      "text/latex": [
       "'age\\_gap\\_over\\_20:'"
      ],
      "text/markdown": [
       "'age_gap_over_20:'"
      ],
      "text/plain": [
       "[1] \"age_gap_over_20:\""
      ]
     },
     "metadata": {},
     "output_type": "display_data"
    },
    {
     "data": {
      "text/html": [
       "<ol class=list-inline>\n",
       "\t<li>'FALSE'</li>\n",
       "\t<li>'TRUE'</li>\n",
       "</ol>\n"
      ],
      "text/latex": [
       "\\begin{enumerate*}\n",
       "\\item 'FALSE'\n",
       "\\item 'TRUE'\n",
       "\\end{enumerate*}\n"
      ],
      "text/markdown": [
       "1. 'FALSE'\n",
       "2. 'TRUE'\n",
       "\n",
       "\n"
      ],
      "text/plain": [
       "[1] \"FALSE\" \"TRUE\" "
      ]
     },
     "metadata": {},
     "output_type": "display_data"
    },
    {
     "data": {
      "text/html": [
       "149"
      ],
      "text/latex": [
       "149"
      ],
      "text/markdown": [
       "149"
      ],
      "text/plain": [
       "[1] 149"
      ]
     },
     "metadata": {},
     "output_type": "display_data"
    },
    {
     "data": {
      "text/html": [
       "'sender_is_older:'"
      ],
      "text/latex": [
       "'sender\\_is\\_older:'"
      ],
      "text/markdown": [
       "'sender_is_older:'"
      ],
      "text/plain": [
       "[1] \"sender_is_older:\""
      ]
     },
     "metadata": {},
     "output_type": "display_data"
    },
    {
     "data": {
      "text/html": [
       "<ol class=list-inline>\n",
       "\t<li>'FALSE'</li>\n",
       "\t<li>'TRUE'</li>\n",
       "</ol>\n"
      ],
      "text/latex": [
       "\\begin{enumerate*}\n",
       "\\item 'FALSE'\n",
       "\\item 'TRUE'\n",
       "\\end{enumerate*}\n"
      ],
      "text/markdown": [
       "1. 'FALSE'\n",
       "2. 'TRUE'\n",
       "\n",
       "\n"
      ],
      "text/plain": [
       "[1] \"FALSE\" \"TRUE\" "
      ]
     },
     "metadata": {},
     "output_type": "display_data"
    },
    {
     "data": {
      "text/html": [
       "149"
      ],
      "text/latex": [
       "149"
      ],
      "text/markdown": [
       "149"
      ],
      "text/plain": [
       "[1] 149"
      ]
     },
     "metadata": {},
     "output_type": "display_data"
    },
    {
     "data": {
      "text/html": [
       "'sender_over_40:'"
      ],
      "text/latex": [
       "'sender\\_over\\_40:'"
      ],
      "text/markdown": [
       "'sender_over_40:'"
      ],
      "text/plain": [
       "[1] \"sender_over_40:\""
      ]
     },
     "metadata": {},
     "output_type": "display_data"
    },
    {
     "data": {
      "text/html": [
       "<ol class=list-inline>\n",
       "\t<li>'FALSE'</li>\n",
       "\t<li>'TRUE'</li>\n",
       "</ol>\n"
      ],
      "text/latex": [
       "\\begin{enumerate*}\n",
       "\\item 'FALSE'\n",
       "\\item 'TRUE'\n",
       "\\end{enumerate*}\n"
      ],
      "text/markdown": [
       "1. 'FALSE'\n",
       "2. 'TRUE'\n",
       "\n",
       "\n"
      ],
      "text/plain": [
       "[1] \"FALSE\" \"TRUE\" "
      ]
     },
     "metadata": {},
     "output_type": "display_data"
    },
    {
     "data": {
      "text/html": [
       "149"
      ],
      "text/latex": [
       "149"
      ],
      "text/markdown": [
       "149"
      ],
      "text/plain": [
       "[1] 149"
      ]
     },
     "metadata": {},
     "output_type": "display_data"
    },
    {
     "data": {
      "text/html": [
       "'addressee_over_40:'"
      ],
      "text/latex": [
       "'addressee\\_over\\_40:'"
      ],
      "text/markdown": [
       "'addressee_over_40:'"
      ],
      "text/plain": [
       "[1] \"addressee_over_40:\""
      ]
     },
     "metadata": {},
     "output_type": "display_data"
    },
    {
     "data": {
      "text/html": [
       "<ol class=list-inline>\n",
       "\t<li>'FALSE'</li>\n",
       "\t<li>'TRUE'</li>\n",
       "</ol>\n"
      ],
      "text/latex": [
       "\\begin{enumerate*}\n",
       "\\item 'FALSE'\n",
       "\\item 'TRUE'\n",
       "\\end{enumerate*}\n"
      ],
      "text/markdown": [
       "1. 'FALSE'\n",
       "2. 'TRUE'\n",
       "\n",
       "\n"
      ],
      "text/plain": [
       "[1] \"FALSE\" \"TRUE\" "
      ]
     },
     "metadata": {},
     "output_type": "display_data"
    },
    {
     "data": {
      "text/html": [
       "149"
      ],
      "text/latex": [
       "149"
      ],
      "text/markdown": [
       "149"
      ],
      "text/plain": [
       "[1] 149"
      ]
     },
     "metadata": {},
     "output_type": "display_data"
    },
    {
     "data": {
      "text/html": [
       "'gender_pair:'"
      ],
      "text/latex": [
       "'gender\\_pair:'"
      ],
      "text/markdown": [
       "'gender_pair:'"
      ],
      "text/plain": [
       "[1] \"gender_pair:\""
      ]
     },
     "metadata": {},
     "output_type": "display_data"
    },
    {
     "data": {
      "text/html": [
       "<ol class=list-inline>\n",
       "\t<li>'FEMALE-FEMALE'</li>\n",
       "\t<li>'FEMALE-MALE'</li>\n",
       "\t<li>'MALE-FEMALE'</li>\n",
       "\t<li>'MALE-MALE'</li>\n",
       "</ol>\n"
      ],
      "text/latex": [
       "\\begin{enumerate*}\n",
       "\\item 'FEMALE-FEMALE'\n",
       "\\item 'FEMALE-MALE'\n",
       "\\item 'MALE-FEMALE'\n",
       "\\item 'MALE-MALE'\n",
       "\\end{enumerate*}\n"
      ],
      "text/markdown": [
       "1. 'FEMALE-FEMALE'\n",
       "2. 'FEMALE-MALE'\n",
       "3. 'MALE-FEMALE'\n",
       "4. 'MALE-MALE'\n",
       "\n",
       "\n"
      ],
      "text/plain": [
       "[1] \"FEMALE-FEMALE\" \"FEMALE-MALE\"   \"MALE-FEMALE\"   \"MALE-MALE\"    "
      ]
     },
     "metadata": {},
     "output_type": "display_data"
    },
    {
     "data": {
      "text/html": [
       "149"
      ],
      "text/latex": [
       "149"
      ],
      "text/markdown": [
       "149"
      ],
      "text/plain": [
       "[1] 149"
      ]
     },
     "metadata": {},
     "output_type": "display_data"
    }
   ],
   "source": [
    "# remove \"UNK\" and \"MULT\" values from age_gap_over_20 column\n",
    "j_gap <- jeake_conn[!(jeake_conn$age_gap_over_20 %in% c(\"MULT\", \"UNK\")),  ]\n",
    "j_gap$age_gap_over_20 <- droplevels(j_gap$age_gap_over_20)\n",
    "\n",
    "# remove \"UNK\" and \"MULT\" values from sender_is_older column\n",
    "j_old <- jeake_conn[!(jeake_conn$sender_is_older %in% c(\"MULT\", \"UNK\")),  ]\n",
    "j_old$sender_is_older <- droplevels(j_old$sender_is_older)\n",
    "\n",
    "# remove \"UNK\" and \"MULT\" values from sender_over_40 column\n",
    "j_se40 <- jeake_conn[!(jeake_conn$sender_over_40 %in% c(\"MULT\", \"UNK\")),  ]\n",
    "j_se40$sender_over_40 <- droplevels(j_se40$sender_over_40)\n",
    "\n",
    "# remove \"UNK\" and \"MULT\" values from addressee_over_40 column\n",
    "j_ad40 <- jeake_conn[!(jeake_conn$addressee_over_40 %in% c(\"MULT\", \"UNK\")),  ]\n",
    "j_ad40$addressee_over_40 <- droplevels(j_ad40$addressee_over_40)\n",
    "\n",
    "# remove multigender values from gender_pair column\n",
    "j_gender <- jeake_conn[!(jeake_conn$gender_pair %in% c(\"FEMALE-MULT\", \"MALE-MULT\")),  ]\n",
    "j_gender$gender_pair <- droplevels(j_gender$gender_pair)\n",
    "\n",
    "\"age_gap_over_20:\"\n",
    "levels(j_gap$age_gap_over_20)\n",
    "nrow(j_gap)\n",
    "\n",
    "\"sender_is_older:\"\n",
    "levels(j_old$sender_is_older)\n",
    "nrow(j_old)\n",
    "\n",
    "\"sender_over_40:\"\n",
    "levels(j_se40$sender_over_40)\n",
    "nrow(j_se40)\n",
    "\n",
    "\"addressee_over_40:\"\n",
    "levels(j_ad40$addressee_over_40)\n",
    "nrow(j_ad40)\n",
    "\n",
    "\"gender_pair:\"\n",
    "levels(j_gender$gender_pair)\n",
    "nrow(j_gender)"
   ]
  },
  {
   "cell_type": "markdown",
   "id": "3919273f",
   "metadata": {},
   "source": [
    "## 1 Travel & transport"
   ]
  },
  {
   "cell_type": "markdown",
   "id": "c23e6769",
   "metadata": {},
   "source": [
    "### 1.1 Generalised linear mixed-effects model using \"connection\" as a fixed effect and \"sender\" as a random effect, negative binomial"
   ]
  },
  {
   "cell_type": "code",
   "execution_count": 15,
   "id": "63eda72c",
   "metadata": {},
   "outputs": [
    {
     "data": {
      "text/plain": [
       "\n",
       "Call:\n",
       "lm(formula = travel_freq ~ connection, data = jeake_conn)\n",
       "\n",
       "Residuals:\n",
       "    Min      1Q  Median      3Q     Max \n",
       "-0.1251 -0.0717 -0.0717 -0.0717  6.7549 \n",
       "\n",
       "Coefficients:\n",
       "                             Estimate Std. Error t value Pr(>|t|)\n",
       "(Intercept)                 1.489e-17  1.021e-01   0.000    1.000\n",
       "connectionBUSINESS; FRIEND -8.434e-17  1.389e-01   0.000    1.000\n",
       "connectionEXTENDED FAMILY   1.251e-01  1.215e-01   1.029    0.304\n",
       "connectionFAMILY            7.172e-02  1.090e-01   0.658    0.511\n",
       "connectionFRIEND            4.510e-17  1.924e-01   0.000    1.000\n",
       "\n",
       "Residual standard error: 0.4894 on 272 degrees of freedom\n",
       "Multiple R-squared:  0.006921,\tAdjusted R-squared:  -0.007683 \n",
       "F-statistic: 0.4739 on 4 and 272 DF,  p-value: 0.7549\n"
      ]
     },
     "metadata": {},
     "output_type": "display_data"
    }
   ],
   "source": [
    "j_lm1 <- lm(travel_freq ~ connection,\n",
    "           data = jeake_conn)\n",
    "\n",
    "summary(j_lm1)"
   ]
  },
  {
   "cell_type": "code",
   "execution_count": 20,
   "id": "f750ee68",
   "metadata": {
    "scrolled": true,
    "vscode": {
     "languageId": "r"
    }
   },
   "outputs": [
    {
     "data": {
      "text/plain": [
       "Generalized linear mixed model fit by maximum likelihood (Adaptive\n",
       "  Gauss-Hermite Quadrature, nAGQ = 0) [glmerMod]\n",
       " Family: Negative Binomial(1)  ( log )\n",
       "Formula: travel_freq ~ connection + (1 | sender)\n",
       "   Data: jeake_conn\n",
       "\n",
       "     AIC      BIC   logLik deviance df.resid \n",
       "   129.9    151.3    -58.9    117.9      257 \n",
       "\n",
       "Scaled residuals: \n",
       "    Min      1Q  Median      3Q     Max \n",
       "-0.5824 -0.2161 -0.1815 -0.1411  8.7151 \n",
       "\n",
       "Random effects:\n",
       " Groups Name        Variance Std.Dev.\n",
       " sender (Intercept) 2.053    1.433   \n",
       "Number of obs: 263, groups:  sender, 31\n",
       "\n",
       "Fixed effects:\n",
       "                            Estimate Std. Error z value Pr(>|z|)\n",
       "(Intercept)                 -22.2729  6586.3292  -0.003    0.997\n",
       "connectionBUSINESS; FRIEND    0.4811  9112.7640   0.000    1.000\n",
       "connectionEXTENDED FAMILY    19.2342  6586.3293   0.003    0.998\n",
       "connectionFAMILY             18.9606  6586.3292   0.003    0.998\n",
       "\n",
       "Correlation of Fixed Effects:\n",
       "            (Intr) cBUSIF cEXTEF\n",
       "cBUSINESS;F -0.723              \n",
       "cEXTENDEDFA -1.000  0.723       \n",
       "cnnctFAMILY -1.000  0.723  1.000"
      ]
     },
     "metadata": {},
     "output_type": "display_data"
    },
    {
     "data": {
      "text/html": [
       "'------------------------------dispersion------------------------------'"
      ],
      "text/latex": [
       "'------------------------------dispersion------------------------------'"
      ],
      "text/markdown": [
       "'------------------------------dispersion------------------------------'"
      ],
      "text/plain": [
       "[1] \"------------------------------dispersion------------------------------\""
      ]
     },
     "metadata": {},
     "output_type": "display_data"
    },
    {
     "data": {
      "text/html": [
       "0.53812286987645"
      ],
      "text/latex": [
       "0.53812286987645"
      ],
      "text/markdown": [
       "0.53812286987645"
      ],
      "text/plain": [
       "[1] 0.5381229"
      ]
     },
     "metadata": {},
     "output_type": "display_data"
    },
    {
     "data": {
      "text/html": [
       "'------------------------------drop1------------------------------'"
      ],
      "text/latex": [
       "'------------------------------drop1------------------------------'"
      ],
      "text/markdown": [
       "'------------------------------drop1------------------------------'"
      ],
      "text/plain": [
       "[1] \"------------------------------drop1------------------------------\""
      ]
     },
     "metadata": {},
     "output_type": "display_data"
    },
    {
     "data": {
      "text/html": [
       "<table>\n",
       "<thead><tr><th></th><th scope=col>Df</th><th scope=col>AIC</th><th scope=col>LRT</th><th scope=col>Pr(Chi)</th></tr></thead>\n",
       "<tbody>\n",
       "\t<tr><th scope=row>&lt;none&gt;</th><td>NA       </td><td>129.8988 </td><td>      NA </td><td>       NA</td></tr>\n",
       "\t<tr><th scope=row>connection</th><td> 3       </td><td>128.3585 </td><td>4.459744 </td><td>0.2159092</td></tr>\n",
       "</tbody>\n",
       "</table>\n"
      ],
      "text/latex": [
       "\\begin{tabular}{r|llll}\n",
       "  & Df & AIC & LRT & Pr(Chi)\\\\\n",
       "\\hline\n",
       "\t<none> & NA        & 129.8988  &       NA  &        NA\\\\\n",
       "\tconnection &  3        & 128.3585  & 4.459744  & 0.2159092\\\\\n",
       "\\end{tabular}\n"
      ],
      "text/markdown": [
       "\n",
       "| <!--/--> | Df | AIC | LRT | Pr(Chi) |\n",
       "|---|---|---|---|---|\n",
       "| <none> | NA        | 129.8988  |       NA  |        NA |\n",
       "| connection |  3        | 128.3585  | 4.459744  | 0.2159092 |\n",
       "\n"
      ],
      "text/plain": [
       "           Df AIC      LRT      Pr(Chi)  \n",
       "<none>     NA 129.8988       NA        NA\n",
       "connection  3 128.3585 4.459744 0.2159092"
      ]
     },
     "metadata": {},
     "output_type": "display_data"
    },
    {
     "data": {
      "text/plain": [
       "\n",
       " connection effect\n",
       "connection\n",
       "BUSINESS; CORRESPONDENT        BUSINESS; FRIEND         EXTENDED FAMILY \n",
       "           2.123262e-10            3.435256e-10            4.789698e-02 \n",
       "                 FAMILY \n",
       "           3.643404e-02 "
      ]
     },
     "metadata": {},
     "output_type": "display_data"
    },
    {
     "ename": "ERROR",
     "evalue": "Error in grid::grid.pretty(range.labels): infinite axis extents [GEPretty(2.22045e-16,inf,5)]\n",
     "output_type": "error",
     "traceback": [
      "Error in grid::grid.pretty(range.labels): infinite axis extents [GEPretty(2.22045e-16,inf,5)]\nTraceback:\n",
      "1. plot(effect(\"connection\", j_glmer1))",
      "2. plot.eff(effect(\"connection\", j_glmer1))",
      "3. make.ticks(ylim, link = trans.link, inverse = trans.inverse, \n .     at = ticks$at, n = ticks$n)",
      "4. grid::grid.pretty(range.labels)"
     ]
    }
   ],
   "source": [
    "j_glmer1 <- glmer(travel_freq ~ connection + (1|sender),\n",
    "                  data=jeake_conn,\n",
    "                  family=negative.binomial(theta=1),\n",
    "                  nAGQ=0L)\n",
    "\n",
    "summary(j_glmer1)\n",
    "\n",
    "\"------------------------------dispersion------------------------------\"\n",
    "dispersion_glmer(j_glmer1)\n",
    "\n",
    "\"------------------------------drop1------------------------------\"\n",
    "drop1(j_glmer1, test = \"Chisq\")\n",
    "\n",
    "effect(\"connection\", j_glmer1)\n",
    "\n",
    "plot(effect(\"connection\", j_glmer1))\n",
    "\n",
    "par(cex.axis = 0.8)\n",
    "\n",
    "options(repr.plot.width = 14, repr.plot.height = 6)"
   ]
  },
  {
   "cell_type": "markdown",
   "id": "86642613",
   "metadata": {},
   "source": [
    "With only 8 data points having values that differentiate from 0, it is possible that there is insufficient variance within the travel & transport frequencies to build a working model."
   ]
  },
  {
   "cell_type": "markdown",
   "id": "b758f40c",
   "metadata": {},
   "source": [
    "## 2 Trade & finances\n",
    "\n",
    "### 2.1 Generalised linear mixed-effects model using \"connection\" as a fixed effect and \"sender\" as a random effect, negative binomial"
   ]
  },
  {
   "cell_type": "code",
   "execution_count": 24,
   "id": "8ac6dd69",
   "metadata": {
    "scrolled": true
   },
   "outputs": [
    {
     "data": {
      "text/plain": [
       "Generalized linear mixed model fit by maximum likelihood (Adaptive\n",
       "  Gauss-Hermite Quadrature, nAGQ = 0) [glmerMod]\n",
       " Family: Negative Binomial(1)  ( log )\n",
       "Formula: trade_freq ~ connection + (1 | sender)\n",
       "   Data: jeake_conn\n",
       "\n",
       "     AIC      BIC   logLik deviance df.resid \n",
       "   255.2    276.6   -121.6    243.2      257 \n",
       "\n",
       "Scaled residuals: \n",
       "    Min      1Q  Median      3Q     Max \n",
       "-0.9307 -0.3268 -0.2433 -0.1285 13.2533 \n",
       "\n",
       "Random effects:\n",
       " Groups Name        Variance Std.Dev.\n",
       " sender (Intercept) 5.464    2.338   \n",
       "Number of obs: 263, groups:  sender, 31\n",
       "\n",
       "Fixed effects:\n",
       "                           Estimate Std. Error z value Pr(>|z|)    \n",
       "(Intercept)                 -0.7088     0.7314  -0.969   0.3325    \n",
       "connectionBUSINESS; FRIEND  -0.9915     2.0904  -0.474   0.6353    \n",
       "connectionEXTENDED FAMILY   -2.9137     1.5508  -1.879   0.0603 .  \n",
       "connectionFAMILY            -3.1083     0.6226  -4.993 5.95e-07 ***\n",
       "---\n",
       "Signif. codes:  0 ‘***’ 0.001 ‘**’ 0.01 ‘*’ 0.05 ‘.’ 0.1 ‘ ’ 1\n",
       "\n",
       "Correlation of Fixed Effects:\n",
       "            (Intr) cBUSIF cEXTEF\n",
       "cBUSINESS;F -0.350              \n",
       "cEXTENDEDFA -0.472  0.165       \n",
       "cnnctFAMILY -0.348  0.122  0.164"
      ]
     },
     "metadata": {},
     "output_type": "display_data"
    },
    {
     "data": {
      "text/html": [
       "'------------------------------dispersion------------------------------'"
      ],
      "text/latex": [
       "'------------------------------dispersion------------------------------'"
      ],
      "text/markdown": [
       "'------------------------------dispersion------------------------------'"
      ],
      "text/plain": [
       "[1] \"------------------------------dispersion------------------------------\""
      ]
     },
     "metadata": {},
     "output_type": "display_data"
    },
    {
     "data": {
      "text/html": [
       "0.761820394355997"
      ],
      "text/latex": [
       "0.761820394355997"
      ],
      "text/markdown": [
       "0.761820394355997"
      ],
      "text/plain": [
       "[1] 0.7618204"
      ]
     },
     "metadata": {},
     "output_type": "display_data"
    },
    {
     "data": {
      "text/html": [
       "'------------------------------drop1------------------------------'"
      ],
      "text/latex": [
       "'------------------------------drop1------------------------------'"
      ],
      "text/markdown": [
       "'------------------------------drop1------------------------------'"
      ],
      "text/plain": [
       "[1] \"------------------------------drop1------------------------------\""
      ]
     },
     "metadata": {},
     "output_type": "display_data"
    },
    {
     "data": {
      "text/html": [
       "<table>\n",
       "<thead><tr><th></th><th scope=col>Df</th><th scope=col>AIC</th><th scope=col>LRT</th><th scope=col>Pr(Chi)</th></tr></thead>\n",
       "<tbody>\n",
       "\t<tr><th scope=row>&lt;none&gt;</th><td>NA         </td><td>255.2031   </td><td>     NA    </td><td>         NA</td></tr>\n",
       "\t<tr><th scope=row>connection</th><td> 3         </td><td>282.9257   </td><td>33.7226    </td><td>2.26715e-07</td></tr>\n",
       "</tbody>\n",
       "</table>\n"
      ],
      "text/latex": [
       "\\begin{tabular}{r|llll}\n",
       "  & Df & AIC & LRT & Pr(Chi)\\\\\n",
       "\\hline\n",
       "\t<none> & NA          & 255.2031    &      NA     &          NA\\\\\n",
       "\tconnection &  3          & 282.9257    & 33.7226     & 2.26715e-07\\\\\n",
       "\\end{tabular}\n"
      ],
      "text/markdown": [
       "\n",
       "| <!--/--> | Df | AIC | LRT | Pr(Chi) |\n",
       "|---|---|---|---|---|\n",
       "| <none> | NA          | 255.2031    |      NA     |          NA |\n",
       "| connection |  3          | 282.9257    | 33.7226     | 2.26715e-07 |\n",
       "\n"
      ],
      "text/plain": [
       "           Df AIC      LRT     Pr(Chi)    \n",
       "<none>     NA 255.2031      NA          NA\n",
       "connection  3 282.9257 33.7226 2.26715e-07"
      ]
     },
     "metadata": {},
     "output_type": "display_data"
    },
    {
     "data": {
      "text/plain": [
       "\n",
       " connection effect\n",
       "connection\n",
       "BUSINESS; CORRESPONDENT        BUSINESS; FRIEND         EXTENDED FAMILY \n",
       "             0.49222832              0.18262838              0.02671416 \n",
       "                 FAMILY \n",
       "             0.02199115 "
      ]
     },
     "metadata": {},
     "output_type": "display_data"
    },
    {
     "data": {
      "image/png": "[encoded data removed]",
      "text/plain": [
       "plot without title"
      ]
     },
     "metadata": {},
     "output_type": "display_data"
    }
   ],
   "source": [
    "j_glmer2 <- glmer(trade_freq ~ connection + (1|sender),\n",
    "                  data=jeake_conn,\n",
    "                  family=negative.binomial(theta=1),\n",
    "                  nAGQ=0L)\n",
    "\n",
    "summary(j_glmer2)\n",
    "\n",
    "\"------------------------------dispersion------------------------------\"\n",
    "dispersion_glmer(j_glmer2)\n",
    "\n",
    "\"------------------------------drop1------------------------------\"\n",
    "drop1(j_glmer2, test = \"Chisq\")\n",
    "\n",
    "effect(\"connection\", j_glmer2)\n",
    "\n",
    "plot(effect(\"connection\", j_glmer2))\n",
    "\n",
    "par(cex.axis = 0.8)\n",
    "\n",
    "options(repr.plot.width = 14, repr.plot.height = 6)"
   ]
  },
  {
   "cell_type": "markdown",
   "id": "a5e1a14c",
   "metadata": {},
   "source": [
    "### 2.2 Generalised linear mixed-effects model using \"connection\" as a fixed effect, and \"pair\" as a random effect, negative binomial"
   ]
  },
  {
   "cell_type": "code",
   "execution_count": 25,
   "id": "f0c9bb89",
   "metadata": {
    "scrolled": true,
    "vscode": {
     "languageId": "r"
    }
   },
   "outputs": [
    {
     "data": {
      "text/plain": [
       "Generalized linear mixed model fit by maximum likelihood (Adaptive\n",
       "  Gauss-Hermite Quadrature, nAGQ = 0) [glmerMod]\n",
       " Family: Negative Binomial(1)  ( log )\n",
       "Formula: trade_freq ~ connection + (1 | pair)\n",
       "   Data: jeake_conn\n",
       "\n",
       "     AIC      BIC   logLik deviance df.resid \n",
       "   230.3    251.8   -109.2    218.3      257 \n",
       "\n",
       "Scaled residuals: \n",
       "    Min      1Q  Median      3Q     Max \n",
       "-0.9019 -0.2675 -0.1611 -0.0878 14.6030 \n",
       "\n",
       "Random effects:\n",
       " Groups Name        Variance Std.Dev.\n",
       " pair   (Intercept) 6.909    2.629   \n",
       "Number of obs: 263, groups:  pair, 57\n",
       "\n",
       "Fixed effects:\n",
       "                           Estimate Std. Error z value Pr(>|z|)    \n",
       "(Intercept)                 -1.0655     0.7314  -1.457   0.1451    \n",
       "connectionBUSINESS; FRIEND  -1.8851     0.7988  -2.360   0.0183 *  \n",
       "connectionEXTENDED FAMILY   -3.6845     0.7672  -4.803 1.57e-06 ***\n",
       "connectionFAMILY            -2.3809     0.4995  -4.766 1.88e-06 ***\n",
       "---\n",
       "Signif. codes:  0 ‘***’ 0.001 ‘**’ 0.01 ‘*’ 0.05 ‘.’ 0.1 ‘ ’ 1\n",
       "\n",
       "Correlation of Fixed Effects:\n",
       "            (Intr) cBUSIF cEXTEF\n",
       "cBUSINESS;F -0.331              \n",
       "cEXTENDEDFA -0.269  0.200       \n",
       "cnnctFAMILY -0.490  0.421  0.354"
      ]
     },
     "metadata": {},
     "output_type": "display_data"
    },
    {
     "data": {
      "text/html": [
       "'------------------------------dispersion------------------------------'"
      ],
      "text/latex": [
       "'------------------------------dispersion------------------------------'"
      ],
      "text/markdown": [
       "'------------------------------dispersion------------------------------'"
      ],
      "text/plain": [
       "[1] \"------------------------------dispersion------------------------------\""
      ]
     },
     "metadata": {},
     "output_type": "display_data"
    },
    {
     "data": {
      "text/html": [
       "0.69266608068752"
      ],
      "text/latex": [
       "0.69266608068752"
      ],
      "text/markdown": [
       "0.69266608068752"
      ],
      "text/plain": [
       "[1] 0.6926661"
      ]
     },
     "metadata": {},
     "output_type": "display_data"
    },
    {
     "data": {
      "text/html": [
       "'------------------------------drop1------------------------------'"
      ],
      "text/latex": [
       "'------------------------------drop1------------------------------'"
      ],
      "text/markdown": [
       "'------------------------------drop1------------------------------'"
      ],
      "text/plain": [
       "[1] \"------------------------------drop1------------------------------\""
      ]
     },
     "metadata": {},
     "output_type": "display_data"
    },
    {
     "data": {
      "text/html": [
       "<table>\n",
       "<thead><tr><th></th><th scope=col>Df</th><th scope=col>AIC</th><th scope=col>LRT</th><th scope=col>Pr(Chi)</th></tr></thead>\n",
       "<tbody>\n",
       "\t<tr><th scope=row>&lt;none&gt;</th><td>NA          </td><td>230.3180    </td><td>      NA    </td><td>          NA</td></tr>\n",
       "\t<tr><th scope=row>connection</th><td> 3          </td><td>271.6994    </td><td>47.38138    </td><td>2.883364e-10</td></tr>\n",
       "</tbody>\n",
       "</table>\n"
      ],
      "text/latex": [
       "\\begin{tabular}{r|llll}\n",
       "  & Df & AIC & LRT & Pr(Chi)\\\\\n",
       "\\hline\n",
       "\t<none> & NA           & 230.3180     &       NA     &           NA\\\\\n",
       "\tconnection &  3           & 271.6994     & 47.38138     & 2.883364e-10\\\\\n",
       "\\end{tabular}\n"
      ],
      "text/markdown": [
       "\n",
       "| <!--/--> | Df | AIC | LRT | Pr(Chi) |\n",
       "|---|---|---|---|---|\n",
       "| <none> | NA           | 230.3180     |       NA     |           NA |\n",
       "| connection |  3           | 271.6994     | 47.38138     | 2.883364e-10 |\n",
       "\n"
      ],
      "text/plain": [
       "           Df AIC      LRT      Pr(Chi)     \n",
       "<none>     NA 230.3180       NA           NA\n",
       "connection  3 271.6994 47.38138 2.883364e-10"
      ]
     },
     "metadata": {},
     "output_type": "display_data"
    },
    {
     "data": {
      "text/plain": [
       "\n",
       " connection effect\n",
       "connection\n",
       "BUSINESS; CORRESPONDENT        BUSINESS; FRIEND         EXTENDED FAMILY \n",
       "            0.344540196             0.052308543             0.008651572 \n",
       "                 FAMILY \n",
       "            0.031858076 "
      ]
     },
     "metadata": {},
     "output_type": "display_data"
    },
    {
     "data": {
      "image/png": "[encoded data removed]",
      "text/plain": [
       "plot without title"
      ]
     },
     "metadata": {},
     "output_type": "display_data"
    }
   ],
   "source": [
    "j_glmer2b <- glmer(trade_freq ~ connection + (1|pair),\n",
    "                   data=jeake_conn,\n",
    "                   family=negative.binomial(theta=1),\n",
    "                   nAGQ=0L)\n",
    "\n",
    "summary(j_glmer2b)\n",
    "\n",
    "\"------------------------------dispersion------------------------------\"\n",
    "dispersion_glmer(j_glmer2b)\n",
    "\n",
    "\"------------------------------drop1------------------------------\"\n",
    "drop1(j_glmer2b, test = \"Chisq\")\n",
    "\n",
    "effect(\"connection\", j_glmer2b)\n",
    "\n",
    "plot(effect(\"connection\", j_glmer2b))\n",
    "\n",
    "par(cex.axis = 0.8)\n",
    "\n",
    "options(repr.plot.width = 14, repr.plot.height = 6)"
   ]
  },
  {
   "cell_type": "markdown",
   "id": "197fd2b8",
   "metadata": {},
   "source": [
    "### 2.3 Generalised linear mixed-effects model using \"connection\" as a fixed effect, and \"sender\" and \"quinquennial\" as random effects, negative binomial"
   ]
  },
  {
   "cell_type": "code",
   "execution_count": 27,
   "id": "269d7f6f",
   "metadata": {
    "scrolled": true,
    "vscode": {
     "languageId": "r"
    }
   },
   "outputs": [
    {
     "data": {
      "text/plain": [
       "Generalized linear mixed model fit by maximum likelihood (Adaptive\n",
       "  Gauss-Hermite Quadrature, nAGQ = 0) [glmerMod]\n",
       " Family: Negative Binomial(1)  ( log )\n",
       "Formula: trade_freq ~ connection + (1 | sender) + (1 | quinquennial)\n",
       "   Data: jeake_conn\n",
       "\n",
       "     AIC      BIC   logLik deviance df.resid \n",
       "   252.5    277.5   -119.3    238.5      256 \n",
       "\n",
       "Scaled residuals: \n",
       "    Min      1Q  Median      3Q     Max \n",
       "-0.9302 -0.3014 -0.1726 -0.1392 13.1178 \n",
       "\n",
       "Random effects:\n",
       " Groups       Name        Variance Std.Dev.\n",
       " sender       (Intercept) 5.367    2.317   \n",
       " quinquennial (Intercept) 1.533    1.238   \n",
       "Number of obs: 263, groups:  sender, 31; quinquennial, 12\n",
       "\n",
       "Fixed effects:\n",
       "                           Estimate Std. Error z value Pr(>|z|)  \n",
       "(Intercept)                 -2.0215     0.9722  -2.079   0.0376 *\n",
       "connectionBUSINESS; FRIEND  -0.1036     2.1598  -0.048   0.9618  \n",
       "connectionEXTENDED FAMILY   -2.1504     1.5706  -1.369   0.1709  \n",
       "connectionFAMILY            -1.7157     0.7926  -2.165   0.0304 *\n",
       "---\n",
       "Signif. codes:  0 ‘***’ 0.001 ‘**’ 0.01 ‘*’ 0.05 ‘.’ 0.1 ‘ ’ 1\n",
       "\n",
       "Correlation of Fixed Effects:\n",
       "            (Intr) cBUSIF cEXTEF\n",
       "cBUSINESS;F -0.345              \n",
       "cEXTENDEDFA -0.431  0.216       \n",
       "cnnctFAMILY -0.504  0.215  0.246"
      ]
     },
     "metadata": {},
     "output_type": "display_data"
    },
    {
     "data": {
      "text/html": [
       "'------------------------------dispersion------------------------------'"
      ],
      "text/latex": [
       "'------------------------------dispersion------------------------------'"
      ],
      "text/markdown": [
       "'------------------------------dispersion------------------------------'"
      ],
      "text/plain": [
       "[1] \"------------------------------dispersion------------------------------\""
      ]
     },
     "metadata": {},
     "output_type": "display_data"
    },
    {
     "data": {
      "text/html": [
       "0.728575971891103"
      ],
      "text/latex": [
       "0.728575971891103"
      ],
      "text/markdown": [
       "0.728575971891103"
      ],
      "text/plain": [
       "[1] 0.728576"
      ]
     },
     "metadata": {},
     "output_type": "display_data"
    },
    {
     "data": {
      "text/html": [
       "'------------------------------drop1------------------------------'"
      ],
      "text/latex": [
       "'------------------------------drop1------------------------------'"
      ],
      "text/markdown": [
       "'------------------------------drop1------------------------------'"
      ],
      "text/plain": [
       "[1] \"------------------------------drop1------------------------------\""
      ]
     },
     "metadata": {},
     "output_type": "display_data"
    },
    {
     "data": {
      "text/html": [
       "<table>\n",
       "<thead><tr><th></th><th scope=col>Df</th><th scope=col>AIC</th><th scope=col>LRT</th><th scope=col>Pr(Chi)</th></tr></thead>\n",
       "<tbody>\n",
       "\t<tr><th scope=row>&lt;none&gt;</th><td>NA        </td><td>252.5164  </td><td>   NA     </td><td>        NA</td></tr>\n",
       "\t<tr><th scope=row>connection</th><td> 3        </td><td>253.8174  </td><td>7.301     </td><td>0.06289823</td></tr>\n",
       "</tbody>\n",
       "</table>\n"
      ],
      "text/latex": [
       "\\begin{tabular}{r|llll}\n",
       "  & Df & AIC & LRT & Pr(Chi)\\\\\n",
       "\\hline\n",
       "\t<none> & NA         & 252.5164   &    NA      &         NA\\\\\n",
       "\tconnection &  3         & 253.8174   & 7.301      & 0.06289823\\\\\n",
       "\\end{tabular}\n"
      ],
      "text/markdown": [
       "\n",
       "| <!--/--> | Df | AIC | LRT | Pr(Chi) |\n",
       "|---|---|---|---|---|\n",
       "| <none> | NA         | 252.5164   |    NA      |         NA |\n",
       "| connection |  3         | 253.8174   | 7.301      | 0.06289823 |\n",
       "\n"
      ],
      "text/plain": [
       "           Df AIC      LRT   Pr(Chi)   \n",
       "<none>     NA 252.5164    NA         NA\n",
       "connection  3 253.8174 7.301 0.06289823"
      ]
     },
     "metadata": {},
     "output_type": "display_data"
    },
    {
     "data": {
      "text/plain": [
       "\n",
       " connection effect\n",
       "connection\n",
       "BUSINESS; CORRESPONDENT        BUSINESS; FRIEND         EXTENDED FAMILY \n",
       "             0.13245823              0.11942838              0.01542343 \n",
       "                 FAMILY \n",
       "             0.02382155 "
      ]
     },
     "metadata": {},
     "output_type": "display_data"
    },
    {
     "data": {
      "image/png": "[encoded data removed]",
      "text/plain": [
       "plot without title"
      ]
     },
     "metadata": {},
     "output_type": "display_data"
    }
   ],
   "source": [
    "j_glmer2c <- glmer(trade_freq ~ connection + (1|sender) + (1|quinquennial),\n",
    "                   data=jeake_conn,\n",
    "                   family=negative.binomial(theta=1),\n",
    "                   nAGQ=0L)\n",
    "\n",
    "summary(j_glmer2c)\n",
    "\n",
    "\"------------------------------dispersion------------------------------\"\n",
    "dispersion_glmer(j_glmer2c)\n",
    "\n",
    "\"------------------------------drop1------------------------------\"\n",
    "drop1(j_glmer2c, test = \"Chisq\")\n",
    "\n",
    "effect(\"connection\", j_glmer2c)\n",
    "\n",
    "plot(effect(\"connection\", j_glmer2c))\n",
    "\n",
    "par(cex.axis = 0.8)\n",
    "\n",
    "options(repr.plot.width = 14, repr.plot.height = 6)"
   ]
  },
  {
   "cell_type": "markdown",
   "id": "fc6a76c2",
   "metadata": {},
   "source": [
    "### 2.4 Generalised linear mixed-effects model using \"connection\" as a fixed effect, and \"pair\" and \"quinquennial\" as random effects, negative binomial (BEST FIT)"
   ]
  },
  {
   "cell_type": "code",
   "execution_count": 28,
   "id": "2926984b",
   "metadata": {
    "scrolled": true,
    "vscode": {
     "languageId": "r"
    }
   },
   "outputs": [
    {
     "data": {
      "text/plain": [
       "Generalized linear mixed model fit by maximum likelihood (Adaptive\n",
       "  Gauss-Hermite Quadrature, nAGQ = 0) [glmerMod]\n",
       " Family: Negative Binomial(1)  ( log )\n",
       "Formula: trade_freq ~ connection + (1 | pair) + (1 | quinquennial)\n",
       "   Data: jeake_conn\n",
       "\n",
       "     AIC      BIC   logLik deviance df.resid \n",
       "   228.3    253.3   -107.1    214.3      256 \n",
       "\n",
       "Scaled residuals: \n",
       "    Min      1Q  Median      3Q     Max \n",
       "-0.9365 -0.2789 -0.1423 -0.0763 10.7980 \n",
       "\n",
       "Random effects:\n",
       " Groups       Name        Variance Std.Dev.\n",
       " pair         (Intercept) 8.580    2.929   \n",
       " quinquennial (Intercept) 1.978    1.407   \n",
       "Number of obs: 263, groups:  pair, 57; quinquennial, 12\n",
       "\n",
       "Fixed effects:\n",
       "                           Estimate Std. Error z value Pr(>|z|)    \n",
       "(Intercept)                 -2.1616     0.9747  -2.218  0.02657 *  \n",
       "connectionBUSINESS; FRIEND  -1.0337     0.8523  -1.213  0.22519    \n",
       "connectionEXTENDED FAMILY   -3.3695     0.8023  -4.200 2.67e-05 ***\n",
       "connectionFAMILY            -1.6033     0.5275  -3.039  0.00237 ** \n",
       "---\n",
       "Signif. codes:  0 ‘***’ 0.001 ‘**’ 0.01 ‘*’ 0.05 ‘.’ 0.1 ‘ ’ 1\n",
       "\n",
       "Correlation of Fixed Effects:\n",
       "            (Intr) cBUSIF cEXTEF\n",
       "cBUSINESS;F -0.306              \n",
       "cEXTENDEDFA -0.226  0.234       \n",
       "cnnctFAMILY -0.425  0.453  0.396"
      ]
     },
     "metadata": {},
     "output_type": "display_data"
    },
    {
     "data": {
      "text/html": [
       "'------------------------------dispersion------------------------------'"
      ],
      "text/latex": [
       "'------------------------------dispersion------------------------------'"
      ],
      "text/markdown": [
       "'------------------------------dispersion------------------------------'"
      ],
      "text/plain": [
       "[1] \"------------------------------dispersion------------------------------\""
      ]
     },
     "metadata": {},
     "output_type": "display_data"
    },
    {
     "data": {
      "text/html": [
       "0.660492054108412"
      ],
      "text/latex": [
       "0.660492054108412"
      ],
      "text/markdown": [
       "0.660492054108412"
      ],
      "text/plain": [
       "[1] 0.6604921"
      ]
     },
     "metadata": {},
     "output_type": "display_data"
    },
    {
     "data": {
      "text/html": [
       "'------------------------------drop1------------------------------'"
      ],
      "text/latex": [
       "'------------------------------drop1------------------------------'"
      ],
      "text/markdown": [
       "'------------------------------drop1------------------------------'"
      ],
      "text/plain": [
       "[1] \"------------------------------drop1------------------------------\""
      ]
     },
     "metadata": {},
     "output_type": "display_data"
    },
    {
     "data": {
      "text/html": [
       "<table>\n",
       "<thead><tr><th></th><th scope=col>Df</th><th scope=col>AIC</th><th scope=col>LRT</th><th scope=col>Pr(Chi)</th></tr></thead>\n",
       "<tbody>\n",
       "\t<tr><th scope=row>&lt;none&gt;</th><td>NA          </td><td>228.2912    </td><td>      NA    </td><td>          NA</td></tr>\n",
       "\t<tr><th scope=row>connection</th><td> 3          </td><td>246.7691    </td><td>24.47789    </td><td>1.985115e-05</td></tr>\n",
       "</tbody>\n",
       "</table>\n"
      ],
      "text/latex": [
       "\\begin{tabular}{r|llll}\n",
       "  & Df & AIC & LRT & Pr(Chi)\\\\\n",
       "\\hline\n",
       "\t<none> & NA           & 228.2912     &       NA     &           NA\\\\\n",
       "\tconnection &  3           & 246.7691     & 24.47789     & 1.985115e-05\\\\\n",
       "\\end{tabular}\n"
      ],
      "text/markdown": [
       "\n",
       "| <!--/--> | Df | AIC | LRT | Pr(Chi) |\n",
       "|---|---|---|---|---|\n",
       "| <none> | NA           | 228.2912     |       NA     |           NA |\n",
       "| connection |  3           | 246.7691     | 24.47789     | 1.985115e-05 |\n",
       "\n"
      ],
      "text/plain": [
       "           Df AIC      LRT      Pr(Chi)     \n",
       "<none>     NA 228.2912       NA           NA\n",
       "connection  3 246.7691 24.47789 1.985115e-05"
      ]
     },
     "metadata": {},
     "output_type": "display_data"
    },
    {
     "data": {
      "text/plain": [
       "\n",
       " connection effect\n",
       "connection\n",
       "BUSINESS; CORRESPONDENT        BUSINESS; FRIEND         EXTENDED FAMILY \n",
       "            0.115136579             0.040953407             0.003961518 \n",
       "                 FAMILY \n",
       "            0.023169796 "
      ]
     },
     "metadata": {},
     "output_type": "display_data"
    },
    {
     "data": {
      "image/png": "[encoded data removed]",
      "text/plain": [
       "plot without title"
      ]
     },
     "metadata": {},
     "output_type": "display_data"
    }
   ],
   "source": [
    "j_glmer2d <- glmer(trade_freq ~ connection + (1|pair) + (1|quinquennial),\n",
    "                   data=jeake_conn,\n",
    "                   family=negative.binomial(theta=1),\n",
    "                   nAGQ=0L)\n",
    "\n",
    "summary(j_glmer2d)\n",
    "\n",
    "\"------------------------------dispersion------------------------------\"\n",
    "dispersion_glmer(j_glmer2d)\n",
    "\n",
    "\"------------------------------drop1------------------------------\"\n",
    "drop1(j_glmer2d, test = \"Chisq\")\n",
    "\n",
    "effect(\"connection\", j_glmer2d)\n",
    "\n",
    "plot(effect(\"connection\", j_glmer2d))\n",
    "\n",
    "par(cex.axis = 0.8)\n",
    "\n",
    "options(repr.plot.width = 14, repr.plot.height = 6)"
   ]
  },
  {
   "cell_type": "markdown",
   "id": "5c245849",
   "metadata": {},
   "source": [
    "## 3 Health & sickness\n",
    "\n",
    "### 3.1 Generalised linear mixed-effects model using \"connection\" as a fixed effect and \"sender\" as a random effect, negative binomial"
   ]
  },
  {
   "cell_type": "code",
   "execution_count": 31,
   "id": "15ff1a97",
   "metadata": {
    "scrolled": true
   },
   "outputs": [
    {
     "data": {
      "text/plain": [
       "Generalized linear mixed model fit by maximum likelihood (Adaptive\n",
       "  Gauss-Hermite Quadrature, nAGQ = 0) [glmerMod]\n",
       " Family: Negative Binomial(1)  ( log )\n",
       "Formula: health_freq ~ connection + (1 | sender)\n",
       "   Data: jeake_conn\n",
       "\n",
       "     AIC      BIC   logLik deviance df.resid \n",
       "   365.9    387.3   -176.9    353.9      257 \n",
       "\n",
       "Scaled residuals: \n",
       "    Min      1Q  Median      3Q     Max \n",
       "-0.7867 -0.5121 -0.3316 -0.2720 10.5048 \n",
       "\n",
       "Random effects:\n",
       " Groups Name        Variance Std.Dev.\n",
       " sender (Intercept) 1.531    1.237   \n",
       "Number of obs: 263, groups:  sender, 31\n",
       "\n",
       "Fixed effects:\n",
       "                           Estimate Std. Error z value Pr(>|z|)\n",
       "(Intercept)                  -19.70    2499.33  -0.008    0.994\n",
       "connectionBUSINESS; FRIEND    19.20    2499.33   0.008    0.994\n",
       "connectionEXTENDED FAMILY     17.86    2499.33   0.007    0.994\n",
       "connectionFAMILY              17.95    2499.33   0.007    0.994\n",
       "\n",
       "Correlation of Fixed Effects:\n",
       "            (Intr) cBUSIF cEXTEF\n",
       "cBUSINESS;F -1.000              \n",
       "cEXTENDEDFA -1.000  1.000       \n",
       "cnnctFAMILY -1.000  1.000  1.000"
      ]
     },
     "metadata": {},
     "output_type": "display_data"
    },
    {
     "data": {
      "text/html": [
       "'------------------------------dispersion------------------------------'"
      ],
      "text/latex": [
       "'------------------------------dispersion------------------------------'"
      ],
      "text/markdown": [
       "'------------------------------dispersion------------------------------'"
      ],
      "text/plain": [
       "[1] \"------------------------------dispersion------------------------------\""
      ]
     },
     "metadata": {},
     "output_type": "display_data"
    },
    {
     "data": {
      "text/html": [
       "0.935869505155364"
      ],
      "text/latex": [
       "0.935869505155364"
      ],
      "text/markdown": [
       "0.935869505155364"
      ],
      "text/plain": [
       "[1] 0.9358695"
      ]
     },
     "metadata": {},
     "output_type": "display_data"
    },
    {
     "data": {
      "text/html": [
       "'------------------------------drop1------------------------------'"
      ],
      "text/latex": [
       "'------------------------------drop1------------------------------'"
      ],
      "text/markdown": [
       "'------------------------------drop1------------------------------'"
      ],
      "text/plain": [
       "[1] \"------------------------------drop1------------------------------\""
      ]
     },
     "metadata": {},
     "output_type": "display_data"
    },
    {
     "data": {
      "text/html": [
       "<table>\n",
       "<thead><tr><th></th><th scope=col>Df</th><th scope=col>AIC</th><th scope=col>LRT</th><th scope=col>Pr(Chi)</th></tr></thead>\n",
       "<tbody>\n",
       "\t<tr><th scope=row>&lt;none&gt;</th><td>NA        </td><td>365.8675  </td><td>    NA    </td><td>        NA</td></tr>\n",
       "\t<tr><th scope=row>connection</th><td> 3        </td><td>368.2229  </td><td>8.3554    </td><td>0.03921026</td></tr>\n",
       "</tbody>\n",
       "</table>\n"
      ],
      "text/latex": [
       "\\begin{tabular}{r|llll}\n",
       "  & Df & AIC & LRT & Pr(Chi)\\\\\n",
       "\\hline\n",
       "\t<none> & NA         & 365.8675   &     NA     &         NA\\\\\n",
       "\tconnection &  3         & 368.2229   & 8.3554     & 0.03921026\\\\\n",
       "\\end{tabular}\n"
      ],
      "text/markdown": [
       "\n",
       "| <!--/--> | Df | AIC | LRT | Pr(Chi) |\n",
       "|---|---|---|---|---|\n",
       "| <none> | NA         | 365.8675   |     NA     |         NA |\n",
       "| connection |  3         | 368.2229   | 8.3554     | 0.03921026 |\n",
       "\n"
      ],
      "text/plain": [
       "           Df AIC      LRT    Pr(Chi)   \n",
       "<none>     NA 365.8675     NA         NA\n",
       "connection  3 368.2229 8.3554 0.03921026"
      ]
     },
     "metadata": {},
     "output_type": "display_data"
    },
    {
     "data": {
      "text/plain": [
       "\n",
       " connection effect\n",
       "connection\n",
       "BUSINESS; CORRESPONDENT        BUSINESS; FRIEND         EXTENDED FAMILY \n",
       "           2.768557e-09            6.049769e-01            1.575831e-01 \n",
       "                 FAMILY \n",
       "           1.729224e-01 "
      ]
     },
     "metadata": {},
     "output_type": "display_data"
    },
    {
     "ename": "ERROR",
     "evalue": "Error in grid::grid.pretty(range.labels): infinite axis extents [GEPretty(2.22045e-16,inf,5)]\n",
     "output_type": "error",
     "traceback": [
      "Error in grid::grid.pretty(range.labels): infinite axis extents [GEPretty(2.22045e-16,inf,5)]\nTraceback:\n",
      "1. plot(effect(\"connection\", j_glmer3))",
      "2. plot.eff(effect(\"connection\", j_glmer3))",
      "3. make.ticks(ylim, link = trans.link, inverse = trans.inverse, \n .     at = ticks$at, n = ticks$n)",
      "4. grid::grid.pretty(range.labels)"
     ]
    }
   ],
   "source": [
    "j_glmer3 <- glmer(health_freq ~ connection + (1|sender),\n",
    "                  data=jeake_conn,\n",
    "                  family=negative.binomial(theta=1),\n",
    "                  nAGQ=0L)\n",
    "\n",
    "summary(j_glmer3)\n",
    "\n",
    "\"------------------------------dispersion------------------------------\"\n",
    "dispersion_glmer(j_glmer3)\n",
    "\n",
    "\"------------------------------drop1------------------------------\"\n",
    "drop1(j_glmer3, test = \"Chisq\")\n",
    "\n",
    "effect(\"connection\", j_glmer3)\n",
    "\n",
    "plot(effect(\"connection\", j_glmer3))\n",
    "\n",
    "par(cex.axis = 0.8)\n",
    "\n",
    "options(repr.plot.width = 14, repr.plot.height = 6)"
   ]
  },
  {
   "cell_type": "markdown",
   "id": "b8ac7050",
   "metadata": {},
   "source": [
    "### 3.2 Generalised linear mixed-effects model using \"connection\" as a fixed effect, and \"pair\" as a random effect, negative binomial"
   ]
  },
  {
   "cell_type": "code",
   "execution_count": 32,
   "id": "b65a0aaf",
   "metadata": {
    "scrolled": true,
    "vscode": {
     "languageId": "r"
    }
   },
   "outputs": [
    {
     "ename": "ERROR",
     "evalue": "Error in pwrssUpdate(pp, resp, tol = tolPwrss, GQmat = GHrule(0L), compDev = compDev, : Downdated VtV is not positive definite\n",
     "output_type": "error",
     "traceback": [
      "Error in pwrssUpdate(pp, resp, tol = tolPwrss, GQmat = GHrule(0L), compDev = compDev, : Downdated VtV is not positive definite\nTraceback:\n",
      "1. glmer(health_freq ~ connection + (1 | pair), data = jeake_conn, \n .     family = negative.binomial(theta = 1), nAGQ = 0L)",
      "2. optimizeGlmer(devfun, optimizer = control$optimizer[[1]], restart_edge = if (nAGQ == \n .     0) control$restart_edge else FALSE, boundary.tol = if (nAGQ == \n .     0) control$boundary.tol else 0, control = control$optCtrl, \n .     start = start, nAGQ = 0, verbose = verbose, calc.derivs = FALSE)",
      "3. optwrap(optimizer, devfun, start, rho$lower, control = control, \n .     adj = adj, verbose = verbose, ...)",
      "4. withCallingHandlers(do.call(optfun, arglist), warning = function(w) {\n .     curWarnings <<- append(curWarnings, list(w$message))\n . })",
      "5. do.call(optfun, arglist)",
      "6. (function (par, fn, lower = -Inf, upper = Inf, control = list(), \n .     ...) \n . {\n .     nn <- names(par)\n .     ctrl <- commonArgs(par, fn, control, environment())\n .     n <- length(par)\n .     fn1 <- function(x) {\n .         names(x) <- nn\n .         fn(x, ...)\n .     }\n .     checkObj <- fn1(par)\n .     if (length(checkObj) > 1 || !is.numeric(checkObj)) \n .         stop(\"Objective function must return a single numeric value.\")\n .     lower <- as.double(lower)\n .     upper <- as.double(upper)\n .     if (length(lower) == 1) \n .         lower <- rep(lower, n)\n .     if (length(upper) == 1) \n .         upper <- rep(upper, n)\n .     stopifnot(length(lower) == n, length(upper) == n, all(lower < \n .         upper))\n .     if (any(par < lower | par > upper)) {\n .         if (ctrl$obstop) \n .             stop(\"Starting values violate bounds\")\n .         else {\n .             par <- pmax(lower, pmax(par, upper))\n .             warning(\"Some parameters adjusted to nearest bound\")\n .         }\n .     }\n .     rng <- upper - lower\n .     if (any(rng < 2 * ctrl$rhobeg)) {\n .         warning(\"All upper - lower must be >= 2*rhobeg. Changing rhobeg\")\n .         ctrl$rhobeg <- 0.2 * min(rng)\n .     }\n .     verb <- 1 < (ctrl$iprint <- as.integer(ctrl$iprint))\n .     if (all(is.finite(upper)) && all(is.finite(lower)) && all(par >= \n .         lower) && all(par <= upper)) {\n .         if (verb) \n .             cat(\"ctrl$force.start = \", ctrl$force.start, \"\\n\")\n .         if (!ctrl$force.start) {\n .             i <- rng < ctrl$rhobeg\n .             if (any(i)) {\n .                 par[i] <- lower[i] + ctrl$rhobeg\n .                 warning(\"Some parameters adjusted away from lower bound\")\n .             }\n .             i <- rng < ctrl$rhobeg\n .             if (any(i)) {\n .                 par[i] <- upper[i] - ctrl$rhobeg\n .                 warning(\"Some parameters adjusted away from upper bound\")\n .             }\n .         }\n .     }\n .     if (verb) {\n .         cat(\"npt =\", ctrl$npt, \", n = \", n, \"\\n\")\n .         cat(\"rhobeg = \", ctrl$rhobeg, \", rhoend = \", ctrl$rhoend, \n .             \"\\n\")\n .     }\n .     if (ctrl$iprint > 0) \n .         cat(\"start par. = \", par, \"fn = \", checkObj, \"\\n\")\n .     retlst <- .Call(bobyqa_cpp, par, lower, upper, ctrl, fn1)\n .     if (retlst$ierr > 0) {\n .         if (retlst$ierr == 10) {\n .             retlst$ierr <- 2\n .             retlst$msg <- \"bobyqa -- NPT is not in the required interval\"\n .         }\n .         else if (retlst$ierr == 320) {\n .             retlst$ierr <- 5\n .             retlst$msg <- \"bobyqa detected too much cancellation in denominator\"\n .         }\n .         else if (retlst$ierr == 390) {\n .             retlst$ierr <- 1\n .             retlst$msg <- \"bobyqa -- maximum number of function evaluations exceeded\"\n .         }\n .         else if (retlst$ierr == 430) {\n .             retlst$ierr <- 3\n .             retlst$msg <- \"bobyqa -- a trust region step failed to reduce q\"\n .         }\n .         else if (retlst$ierr == 20) {\n .             retlst$ierr <- 4\n .             retlst$msg <- \"bobyqa -- one of the box constraint ranges is too small (< 2*RHOBEG)\"\n .         }\n .     }\n .     else {\n .         retlst$msg <- \"Normal exit from bobyqa\"\n .     }\n .     retlst\n . })(fn = function (theta) \n . {\n .     resp$updateMu(lp0)\n .     pp$setTheta(theta)\n .     p <- pwrssUpdate(pp, resp, tol = tolPwrss, GQmat = GHrule(0L), \n .         compDev = compDev, maxit = maxit, verbose = verbose)\n .     resp$updateWts()\n .     p\n . }, par = 1.98276702309358, lower = 0, upper = Inf, control = list(\n .     iprint = 0L))",
      "7. (function (x) \n . {\n .     names(x) <- nn\n .     fn(x, ...)\n . })(1.98276702309358)",
      "8. fn(x, ...)",
      "9. pwrssUpdate(pp, resp, tol = tolPwrss, GQmat = GHrule(0L), compDev = compDev, \n .     maxit = maxit, verbose = verbose)"
     ]
    }
   ],
   "source": [
    "j_glmer3b <- glmer(health_freq ~ connection + (1|pair),\n",
    "                   data=jeake_conn,\n",
    "                   family=negative.binomial(theta=1),\n",
    "                   nAGQ=0L)\n",
    "\n",
    "summary(j_glmer3b)\n",
    "\n",
    "\"------------------------------dispersion------------------------------\"\n",
    "dispersion_glmer(j_glmer3b)\n",
    "\n",
    "\"------------------------------drop1------------------------------\"\n",
    "drop1(j_glmer3b, test = \"Chisq\")\n",
    "\n",
    "effect(\"connection\", j_glmer3b)\n",
    "\n",
    "plot(effect(\"connection\", j_glmer3b))\n",
    "\n",
    "par(cex.axis = 0.8)\n",
    "\n",
    "options(repr.plot.width = 14, repr.plot.height = 6)"
   ]
  },
  {
   "cell_type": "markdown",
   "id": "4a0254bd",
   "metadata": {},
   "source": [
    "### 3.3 Generalised linear mixed-effects model using \"connection\" as a fixed effect, and \"sender\" and \"quinquennial\" as random effects, negative binomial"
   ]
  },
  {
   "cell_type": "code",
   "execution_count": 33,
   "id": "e1ca5d3a",
   "metadata": {
    "scrolled": true,
    "vscode": {
     "languageId": "r"
    }
   },
   "outputs": [
    {
     "data": {
      "text/plain": [
       "Generalized linear mixed model fit by maximum likelihood (Adaptive\n",
       "  Gauss-Hermite Quadrature, nAGQ = 0) [glmerMod]\n",
       " Family: Negative Binomial(1)  ( log )\n",
       "Formula: health_freq ~ connection + (1 | sender) + (1 | quinquennial)\n",
       "   Data: jeake_conn\n",
       "\n",
       "     AIC      BIC   logLik deviance df.resid \n",
       "   339.0    364.0   -162.5    325.0      256 \n",
       "\n",
       "Scaled residuals: \n",
       "    Min      1Q  Median      3Q     Max \n",
       "-0.8350 -0.4743 -0.2960 -0.2074 10.7695 \n",
       "\n",
       "Random effects:\n",
       " Groups       Name        Variance Std.Dev.\n",
       " sender       (Intercept) 3.131    1.770   \n",
       " quinquennial (Intercept) 1.377    1.173   \n",
       "Number of obs: 263, groups:  sender, 31; quinquennial, 12\n",
       "\n",
       "Fixed effects:\n",
       "                           Estimate Std. Error z value Pr(>|z|)\n",
       "(Intercept)                  -23.85   11083.49  -0.002    0.998\n",
       "connectionBUSINESS; FRIEND    22.41   11083.49   0.002    0.998\n",
       "connectionEXTENDED FAMILY     20.60   11083.49   0.002    0.999\n",
       "connectionFAMILY              21.57   11083.49   0.002    0.998\n",
       "\n",
       "Correlation of Fixed Effects:\n",
       "            (Intr) cBUSIF cEXTEF\n",
       "cBUSINESS;F -1.000              \n",
       "cEXTENDEDFA -1.000  1.000       \n",
       "cnnctFAMILY -1.000  1.000  1.000"
      ]
     },
     "metadata": {},
     "output_type": "display_data"
    },
    {
     "data": {
      "text/html": [
       "'------------------------------dispersion------------------------------'"
      ],
      "text/latex": [
       "'------------------------------dispersion------------------------------'"
      ],
      "text/markdown": [
       "'------------------------------dispersion------------------------------'"
      ],
      "text/plain": [
       "[1] \"------------------------------dispersion------------------------------\""
      ]
     },
     "metadata": {},
     "output_type": "display_data"
    },
    {
     "data": {
      "text/html": [
       "0.834869600091194"
      ],
      "text/latex": [
       "0.834869600091194"
      ],
      "text/markdown": [
       "0.834869600091194"
      ],
      "text/plain": [
       "[1] 0.8348696"
      ]
     },
     "metadata": {},
     "output_type": "display_data"
    },
    {
     "data": {
      "text/html": [
       "'------------------------------drop1------------------------------'"
      ],
      "text/latex": [
       "'------------------------------drop1------------------------------'"
      ],
      "text/markdown": [
       "'------------------------------drop1------------------------------'"
      ],
      "text/plain": [
       "[1] \"------------------------------drop1------------------------------\""
      ]
     },
     "metadata": {},
     "output_type": "display_data"
    },
    {
     "data": {
      "text/html": [
       "<table>\n",
       "<thead><tr><th></th><th scope=col>Df</th><th scope=col>AIC</th><th scope=col>LRT</th><th scope=col>Pr(Chi)</th></tr></thead>\n",
       "<tbody>\n",
       "\t<tr><th scope=row>&lt;none&gt;</th><td>NA        </td><td>338.9589  </td><td>      NA  </td><td>        NA</td></tr>\n",
       "\t<tr><th scope=row>connection</th><td> 3        </td><td>343.0932  </td><td>10.13431  </td><td>0.01745825</td></tr>\n",
       "</tbody>\n",
       "</table>\n"
      ],
      "text/latex": [
       "\\begin{tabular}{r|llll}\n",
       "  & Df & AIC & LRT & Pr(Chi)\\\\\n",
       "\\hline\n",
       "\t<none> & NA         & 338.9589   &       NA   &         NA\\\\\n",
       "\tconnection &  3         & 343.0932   & 10.13431   & 0.01745825\\\\\n",
       "\\end{tabular}\n"
      ],
      "text/markdown": [
       "\n",
       "| <!--/--> | Df | AIC | LRT | Pr(Chi) |\n",
       "|---|---|---|---|---|\n",
       "| <none> | NA         | 338.9589   |       NA   |         NA |\n",
       "| connection |  3         | 343.0932   | 10.13431   | 0.01745825 |\n",
       "\n"
      ],
      "text/plain": [
       "           Df AIC      LRT      Pr(Chi)   \n",
       "<none>     NA 338.9589       NA         NA\n",
       "connection  3 343.0932 10.13431 0.01745825"
      ]
     },
     "metadata": {},
     "output_type": "display_data"
    },
    {
     "data": {
      "text/plain": [
       "\n",
       " connection effect\n",
       "connection\n",
       "BUSINESS; CORRESPONDENT        BUSINESS; FRIEND         EXTENDED FAMILY \n",
       "           4.387893e-11            2.381386e-01            3.890521e-02 \n",
       "                 FAMILY \n",
       "           1.024337e-01 "
      ]
     },
     "metadata": {},
     "output_type": "display_data"
    },
    {
     "ename": "ERROR",
     "evalue": "Error in grid::grid.pretty(range.labels): infinite axis extents [GEPretty(2.22045e-16,inf,5)]\n",
     "output_type": "error",
     "traceback": [
      "Error in grid::grid.pretty(range.labels): infinite axis extents [GEPretty(2.22045e-16,inf,5)]\nTraceback:\n",
      "1. plot(effect(\"connection\", j_glmer3c))",
      "2. plot.eff(effect(\"connection\", j_glmer3c))",
      "3. make.ticks(ylim, link = trans.link, inverse = trans.inverse, \n .     at = ticks$at, n = ticks$n)",
      "4. grid::grid.pretty(range.labels)"
     ]
    }
   ],
   "source": [
    "j_glmer3c <- glmer(health_freq ~ connection + (1|sender) + (1|quinquennial),\n",
    "                   data=jeake_conn,\n",
    "                   family=negative.binomial(theta=1),\n",
    "                   nAGQ=0L)\n",
    "\n",
    "summary(j_glmer3c)\n",
    "\n",
    "\"------------------------------dispersion------------------------------\"\n",
    "dispersion_glmer(j_glmer3c)\n",
    "\n",
    "\"------------------------------drop1------------------------------\"\n",
    "drop1(j_glmer3c, test = \"Chisq\")\n",
    "\n",
    "effect(\"connection\", j_glmer3c)\n",
    "\n",
    "plot(effect(\"connection\", j_glmer3c))\n",
    "\n",
    "par(cex.axis = 0.8)\n",
    "\n",
    "options(repr.plot.width = 14, repr.plot.height = 6)"
   ]
  },
  {
   "cell_type": "markdown",
   "id": "975af247",
   "metadata": {},
   "source": [
    "### 3.4 Generalised linear mixed-effects model using \"connection\" as a fixed effect, and \"pair\" and \"quinquennial\" as random effects, negative binomial"
   ]
  },
  {
   "cell_type": "code",
   "execution_count": 34,
   "id": "991e30da",
   "metadata": {
    "scrolled": true
   },
   "outputs": [
    {
     "data": {
      "text/plain": [
       "Generalized linear mixed model fit by maximum likelihood (Adaptive\n",
       "  Gauss-Hermite Quadrature, nAGQ = 0) [glmerMod]\n",
       " Family: Negative Binomial(1)  ( log )\n",
       "Formula: health_freq ~ connection + (1 | sender) + (1 | quinquennial)\n",
       "   Data: jeake_conn\n",
       "\n",
       "     AIC      BIC   logLik deviance df.resid \n",
       "   339.0    364.0   -162.5    325.0      256 \n",
       "\n",
       "Scaled residuals: \n",
       "    Min      1Q  Median      3Q     Max \n",
       "-0.8350 -0.4743 -0.2960 -0.2074 10.7695 \n",
       "\n",
       "Random effects:\n",
       " Groups       Name        Variance Std.Dev.\n",
       " sender       (Intercept) 3.131    1.770   \n",
       " quinquennial (Intercept) 1.377    1.173   \n",
       "Number of obs: 263, groups:  sender, 31; quinquennial, 12\n",
       "\n",
       "Fixed effects:\n",
       "                           Estimate Std. Error z value Pr(>|z|)\n",
       "(Intercept)                  -23.85   11083.49  -0.002    0.998\n",
       "connectionBUSINESS; FRIEND    22.41   11083.49   0.002    0.998\n",
       "connectionEXTENDED FAMILY     20.60   11083.49   0.002    0.999\n",
       "connectionFAMILY              21.57   11083.49   0.002    0.998\n",
       "\n",
       "Correlation of Fixed Effects:\n",
       "            (Intr) cBUSIF cEXTEF\n",
       "cBUSINESS;F -1.000              \n",
       "cEXTENDEDFA -1.000  1.000       \n",
       "cnnctFAMILY -1.000  1.000  1.000"
      ]
     },
     "metadata": {},
     "output_type": "display_data"
    },
    {
     "data": {
      "text/html": [
       "'------------------------------dispersion------------------------------'"
      ],
      "text/latex": [
       "'------------------------------dispersion------------------------------'"
      ],
      "text/markdown": [
       "'------------------------------dispersion------------------------------'"
      ],
      "text/plain": [
       "[1] \"------------------------------dispersion------------------------------\""
      ]
     },
     "metadata": {},
     "output_type": "display_data"
    },
    {
     "data": {
      "text/html": [
       "0.834869600091194"
      ],
      "text/latex": [
       "0.834869600091194"
      ],
      "text/markdown": [
       "0.834869600091194"
      ],
      "text/plain": [
       "[1] 0.8348696"
      ]
     },
     "metadata": {},
     "output_type": "display_data"
    },
    {
     "data": {
      "text/html": [
       "'------------------------------drop1------------------------------'"
      ],
      "text/latex": [
       "'------------------------------drop1------------------------------'"
      ],
      "text/markdown": [
       "'------------------------------drop1------------------------------'"
      ],
      "text/plain": [
       "[1] \"------------------------------drop1------------------------------\""
      ]
     },
     "metadata": {},
     "output_type": "display_data"
    },
    {
     "data": {
      "text/html": [
       "<table>\n",
       "<thead><tr><th></th><th scope=col>Df</th><th scope=col>AIC</th><th scope=col>LRT</th><th scope=col>Pr(Chi)</th></tr></thead>\n",
       "<tbody>\n",
       "\t<tr><th scope=row>&lt;none&gt;</th><td>NA        </td><td>338.9589  </td><td>      NA  </td><td>        NA</td></tr>\n",
       "\t<tr><th scope=row>connection</th><td> 3        </td><td>343.0932  </td><td>10.13431  </td><td>0.01745825</td></tr>\n",
       "</tbody>\n",
       "</table>\n"
      ],
      "text/latex": [
       "\\begin{tabular}{r|llll}\n",
       "  & Df & AIC & LRT & Pr(Chi)\\\\\n",
       "\\hline\n",
       "\t<none> & NA         & 338.9589   &       NA   &         NA\\\\\n",
       "\tconnection &  3         & 343.0932   & 10.13431   & 0.01745825\\\\\n",
       "\\end{tabular}\n"
      ],
      "text/markdown": [
       "\n",
       "| <!--/--> | Df | AIC | LRT | Pr(Chi) |\n",
       "|---|---|---|---|---|\n",
       "| <none> | NA         | 338.9589   |       NA   |         NA |\n",
       "| connection |  3         | 343.0932   | 10.13431   | 0.01745825 |\n",
       "\n"
      ],
      "text/plain": [
       "           Df AIC      LRT      Pr(Chi)   \n",
       "<none>     NA 338.9589       NA         NA\n",
       "connection  3 343.0932 10.13431 0.01745825"
      ]
     },
     "metadata": {},
     "output_type": "display_data"
    },
    {
     "data": {
      "text/plain": [
       "\n",
       " connection effect\n",
       "connection\n",
       "BUSINESS; CORRESPONDENT        BUSINESS; FRIEND         EXTENDED FAMILY \n",
       "           4.387893e-11            2.381386e-01            3.890521e-02 \n",
       "                 FAMILY \n",
       "           1.024337e-01 "
      ]
     },
     "metadata": {},
     "output_type": "display_data"
    },
    {
     "ename": "ERROR",
     "evalue": "Error in grid::grid.pretty(range.labels): infinite axis extents [GEPretty(2.22045e-16,inf,5)]\n",
     "output_type": "error",
     "traceback": [
      "Error in grid::grid.pretty(range.labels): infinite axis extents [GEPretty(2.22045e-16,inf,5)]\nTraceback:\n",
      "1. plot(effect(\"connection\", j_glmer3d))",
      "2. plot.eff(effect(\"connection\", j_glmer3d))",
      "3. make.ticks(ylim, link = trans.link, inverse = trans.inverse, \n .     at = ticks$at, n = ticks$n)",
      "4. grid::grid.pretty(range.labels)"
     ]
    }
   ],
   "source": [
    "j_glmer3d <- glmer(health_freq ~ connection + (1|sender) + (1|quinquennial),\n",
    "                   data=jeake_conn,\n",
    "                   family=negative.binomial(theta=1),\n",
    "                   nAGQ=0L)\n",
    "\n",
    "summary(j_glmer3d)\n",
    "\n",
    "\"------------------------------dispersion------------------------------\"\n",
    "dispersion_glmer(j_glmer3d)\n",
    "\n",
    "\"------------------------------drop1------------------------------\"\n",
    "drop1(j_glmer3d, test = \"Chisq\")\n",
    "\n",
    "effect(\"connection\", j_glmer3d)\n",
    "\n",
    "plot(effect(\"connection\", j_glmer3d))\n",
    "\n",
    "par(cex.axis = 0.8)\n",
    "\n",
    "options(repr.plot.width = 14, repr.plot.height = 6)"
   ]
  },
  {
   "cell_type": "markdown",
   "id": "f67f5742",
   "metadata": {},
   "source": [
    "Unfortunately, none of the models work with calculating the health frequencies."
   ]
  },
  {
   "cell_type": "markdown",
   "id": "a3c67f45",
   "metadata": {},
   "source": [
    "## 4 Politics\n",
    "\n",
    "### 4.1 Generalised linear mixed-effects model using \"connection\" as a fixed effect and \"sender\" as a random effect, negative binomial"
   ]
  },
  {
   "cell_type": "code",
   "execution_count": 35,
   "id": "672b9f73",
   "metadata": {
    "scrolled": true
   },
   "outputs": [
    {
     "data": {
      "text/plain": [
       "Generalized linear mixed model fit by maximum likelihood (Adaptive\n",
       "  Gauss-Hermite Quadrature, nAGQ = 0) [glmerMod]\n",
       " Family: Negative Binomial(1)  ( log )\n",
       "Formula: politics_freq ~ connection + (1 | sender)\n",
       "   Data: jeake_conn\n",
       "\n",
       "     AIC      BIC   logLik deviance df.resid \n",
       "   144.5    165.9    -66.2    132.5      257 \n",
       "\n",
       "Scaled residuals: \n",
       "    Min      1Q  Median      3Q     Max \n",
       "-0.5364 -0.4084 -0.1688  0.0000 13.4599 \n",
       "\n",
       "Random effects:\n",
       " Groups Name        Variance Std.Dev.\n",
       " sender (Intercept) 1.226    1.107   \n",
       "Number of obs: 263, groups:  sender, 31\n",
       "\n",
       "Fixed effects:\n",
       "                             Estimate Std. Error z value Pr(>|z|)\n",
       "(Intercept)                -2.079e+01  4.137e+03  -0.005    0.996\n",
       "connectionBUSINESS; FRIEND  1.950e+01  4.137e+03   0.005    0.996\n",
       "connectionEXTENDED FAMILY   1.874e-03  4.955e+03   0.000    1.000\n",
       "connectionFAMILY            1.744e+01  4.137e+03   0.004    0.997\n",
       "\n",
       "Correlation of Fixed Effects:\n",
       "            (Intr) cBUSIF cEXTEF\n",
       "cBUSINESS;F -1.000              \n",
       "cEXTENDEDFA -0.835  0.835       \n",
       "cnnctFAMILY -1.000  1.000  0.835"
      ]
     },
     "metadata": {},
     "output_type": "display_data"
    },
    {
     "data": {
      "text/html": [
       "'------------------------------dispersion------------------------------'"
      ],
      "text/latex": [
       "'------------------------------dispersion------------------------------'"
      ],
      "text/markdown": [
       "'------------------------------dispersion------------------------------'"
      ],
      "text/plain": [
       "[1] \"------------------------------dispersion------------------------------\""
      ]
     },
     "metadata": {},
     "output_type": "display_data"
    },
    {
     "data": {
      "text/html": [
       "0.615776646025898"
      ],
      "text/latex": [
       "0.615776646025898"
      ],
      "text/markdown": [
       "0.615776646025898"
      ],
      "text/plain": [
       "[1] 0.6157766"
      ]
     },
     "metadata": {},
     "output_type": "display_data"
    },
    {
     "data": {
      "text/html": [
       "'------------------------------drop1------------------------------'"
      ],
      "text/latex": [
       "'------------------------------drop1------------------------------'"
      ],
      "text/markdown": [
       "'------------------------------drop1------------------------------'"
      ],
      "text/plain": [
       "[1] \"------------------------------drop1------------------------------\""
      ]
     },
     "metadata": {},
     "output_type": "display_data"
    },
    {
     "data": {
      "text/html": [
       "<table>\n",
       "<thead><tr><th></th><th scope=col>Df</th><th scope=col>AIC</th><th scope=col>LRT</th><th scope=col>Pr(Chi)</th></tr></thead>\n",
       "<tbody>\n",
       "\t<tr><th scope=row>&lt;none&gt;</th><td>NA        </td><td>144.4771  </td><td>      NA  </td><td>        NA</td></tr>\n",
       "\t<tr><th scope=row>connection</th><td> 3        </td><td>146.0207  </td><td>7.543558  </td><td>0.05644977</td></tr>\n",
       "</tbody>\n",
       "</table>\n"
      ],
      "text/latex": [
       "\\begin{tabular}{r|llll}\n",
       "  & Df & AIC & LRT & Pr(Chi)\\\\\n",
       "\\hline\n",
       "\t<none> & NA         & 144.4771   &       NA   &         NA\\\\\n",
       "\tconnection &  3         & 146.0207   & 7.543558   & 0.05644977\\\\\n",
       "\\end{tabular}\n"
      ],
      "text/markdown": [
       "\n",
       "| <!--/--> | Df | AIC | LRT | Pr(Chi) |\n",
       "|---|---|---|---|---|\n",
       "| <none> | NA         | 144.4771   |       NA   |         NA |\n",
       "| connection |  3         | 146.0207   | 7.543558   | 0.05644977 |\n",
       "\n"
      ],
      "text/plain": [
       "           Df AIC      LRT      Pr(Chi)   \n",
       "<none>     NA 144.4771       NA         NA\n",
       "connection  3 146.0207 7.543558 0.05644977"
      ]
     },
     "metadata": {},
     "output_type": "display_data"
    },
    {
     "data": {
      "text/plain": [
       "\n",
       " connection effect\n",
       "connection\n",
       "BUSINESS; CORRESPONDENT        BUSINESS; FRIEND         EXTENDED FAMILY \n",
       "           9.320508e-10            2.746138e-01            9.337994e-10 \n",
       "                 FAMILY \n",
       "           3.493202e-02 "
      ]
     },
     "metadata": {},
     "output_type": "display_data"
    },
    {
     "ename": "ERROR",
     "evalue": "Error in grid::grid.pretty(range.labels): infinite axis extents [GEPretty(2.22045e-16,inf,5)]\n",
     "output_type": "error",
     "traceback": [
      "Error in grid::grid.pretty(range.labels): infinite axis extents [GEPretty(2.22045e-16,inf,5)]\nTraceback:\n",
      "1. plot(effect(\"connection\", j_glmer4))",
      "2. plot.eff(effect(\"connection\", j_glmer4))",
      "3. make.ticks(ylim, link = trans.link, inverse = trans.inverse, \n .     at = ticks$at, n = ticks$n)",
      "4. grid::grid.pretty(range.labels)"
     ]
    }
   ],
   "source": [
    "j_glmer4 <- glmer(politics_freq ~ connection + (1|sender),\n",
    "                  data=jeake_conn,\n",
    "                  family=negative.binomial(theta=1),\n",
    "                  nAGQ=0L)\n",
    "\n",
    "summary(j_glmer4)\n",
    "\n",
    "\"------------------------------dispersion------------------------------\"\n",
    "dispersion_glmer(j_glmer4)\n",
    "\n",
    "\"------------------------------drop1------------------------------\"\n",
    "drop1(j_glmer4, test = \"Chisq\")\n",
    "\n",
    "effect(\"connection\", j_glmer4)\n",
    "\n",
    "plot(effect(\"connection\", j_glmer4))\n",
    "\n",
    "par(cex.axis = 0.8)\n",
    "\n",
    "options(repr.plot.width = 14, repr.plot.height = 6)"
   ]
  },
  {
   "cell_type": "markdown",
   "id": "3839520e",
   "metadata": {},
   "source": [
    "### 4.2 Generalised linear mixed-effects model using \"connection\" as a fixed effect, and \"pair\" as a random effect, negative binomial"
   ]
  },
  {
   "cell_type": "code",
   "execution_count": 36,
   "id": "001cace4",
   "metadata": {
    "scrolled": true,
    "vscode": {
     "languageId": "r"
    }
   },
   "outputs": [
    {
     "data": {
      "text/plain": [
       "Generalized linear mixed model fit by maximum likelihood (Adaptive\n",
       "  Gauss-Hermite Quadrature, nAGQ = 0) [glmerMod]\n",
       " Family: Negative Binomial(1)  ( log )\n",
       "Formula: politics_freq ~ connection + (1 | pair)\n",
       "   Data: jeake_conn\n",
       "\n",
       "     AIC      BIC   logLik deviance df.resid \n",
       "   118.9    140.3    -53.4    106.9      257 \n",
       "\n",
       "Scaled residuals: \n",
       "    Min      1Q  Median      3Q     Max \n",
       "-0.6603 -0.1186 -0.0874  0.0000  8.3428 \n",
       "\n",
       "Random effects:\n",
       " Groups Name        Variance Std.Dev.\n",
       " pair   (Intercept) 5.766    2.401   \n",
       "Number of obs: 263, groups:  pair, 57\n",
       "\n",
       "Fixed effects:\n",
       "                             Estimate Std. Error z value Pr(>|z|)\n",
       "(Intercept)                  -24.3868  9271.2098  -0.003    0.998\n",
       "connectionBUSINESS; FRIEND    20.2174  9271.2098   0.002    0.998\n",
       "connectionEXTENDED FAMILY      0.2332 11148.4531   0.000    1.000\n",
       "connectionFAMILY              19.7485  9271.2098   0.002    0.998\n",
       "\n",
       "Correlation of Fixed Effects:\n",
       "            (Intr) cBUSIF cEXTEF\n",
       "cBUSINESS;F -1.000              \n",
       "cEXTENDEDFA -0.832  0.832       \n",
       "cnnctFAMILY -1.000  1.000  0.832"
      ]
     },
     "metadata": {},
     "output_type": "display_data"
    },
    {
     "data": {
      "text/html": [
       "'------------------------------dispersion------------------------------'"
      ],
      "text/latex": [
       "'------------------------------dispersion------------------------------'"
      ],
      "text/markdown": [
       "'------------------------------dispersion------------------------------'"
      ],
      "text/plain": [
       "[1] \"------------------------------dispersion------------------------------\""
      ]
     },
     "metadata": {},
     "output_type": "display_data"
    },
    {
     "data": {
      "text/html": [
       "0.517376350624017"
      ],
      "text/latex": [
       "0.517376350624017"
      ],
      "text/markdown": [
       "0.517376350624017"
      ],
      "text/plain": [
       "[1] 0.5173764"
      ]
     },
     "metadata": {},
     "output_type": "display_data"
    },
    {
     "data": {
      "text/html": [
       "'------------------------------drop1------------------------------'"
      ],
      "text/latex": [
       "'------------------------------drop1------------------------------'"
      ],
      "text/markdown": [
       "'------------------------------drop1------------------------------'"
      ],
      "text/plain": [
       "[1] \"------------------------------drop1------------------------------\""
      ]
     },
     "metadata": {},
     "output_type": "display_data"
    },
    {
     "data": {
      "text/html": [
       "<table>\n",
       "<thead><tr><th></th><th scope=col>Df</th><th scope=col>AIC</th><th scope=col>LRT</th><th scope=col>Pr(Chi)</th></tr></thead>\n",
       "<tbody>\n",
       "\t<tr><th scope=row>&lt;none&gt;</th><td>NA        </td><td>118.8855  </td><td>      NA  </td><td>        NA</td></tr>\n",
       "\t<tr><th scope=row>connection</th><td> 3        </td><td>121.9384  </td><td>9.052872  </td><td>0.02859613</td></tr>\n",
       "</tbody>\n",
       "</table>\n"
      ],
      "text/latex": [
       "\\begin{tabular}{r|llll}\n",
       "  & Df & AIC & LRT & Pr(Chi)\\\\\n",
       "\\hline\n",
       "\t<none> & NA         & 118.8855   &       NA   &         NA\\\\\n",
       "\tconnection &  3         & 121.9384   & 9.052872   & 0.02859613\\\\\n",
       "\\end{tabular}\n"
      ],
      "text/markdown": [
       "\n",
       "| <!--/--> | Df | AIC | LRT | Pr(Chi) |\n",
       "|---|---|---|---|---|\n",
       "| <none> | NA         | 118.8855   |       NA   |         NA |\n",
       "| connection |  3         | 121.9384   | 9.052872   | 0.02859613 |\n",
       "\n"
      ],
      "text/plain": [
       "           Df AIC      LRT      Pr(Chi)   \n",
       "<none>     NA 118.8855       NA         NA\n",
       "connection  3 121.9384 9.052872 0.02859613"
      ]
     },
     "metadata": {},
     "output_type": "display_data"
    },
    {
     "data": {
      "text/plain": [
       "\n",
       " connection effect\n",
       "connection\n",
       "BUSINESS; CORRESPONDENT        BUSINESS; FRIEND         EXTENDED FAMILY \n",
       "           2.564233e-11            1.546249e-02            3.237686e-11 \n",
       "                 FAMILY \n",
       "           9.674475e-03 "
      ]
     },
     "metadata": {},
     "output_type": "display_data"
    },
    {
     "ename": "ERROR",
     "evalue": "Error in grid::grid.pretty(range.labels): infinite axis extents [GEPretty(2.22045e-16,inf,5)]\n",
     "output_type": "error",
     "traceback": [
      "Error in grid::grid.pretty(range.labels): infinite axis extents [GEPretty(2.22045e-16,inf,5)]\nTraceback:\n",
      "1. plot(effect(\"connection\", j_glmer4b))",
      "2. plot.eff(effect(\"connection\", j_glmer4b))",
      "3. make.ticks(ylim, link = trans.link, inverse = trans.inverse, \n .     at = ticks$at, n = ticks$n)",
      "4. grid::grid.pretty(range.labels)"
     ]
    }
   ],
   "source": [
    "j_glmer4b <- glmer(politics_freq ~ connection + (1|pair),\n",
    "                   data=jeake_conn,\n",
    "                   family=negative.binomial(theta=1),\n",
    "                   nAGQ=0L)\n",
    "\n",
    "summary(j_glmer4b)\n",
    "\n",
    "\"------------------------------dispersion------------------------------\"\n",
    "dispersion_glmer(j_glmer4b)\n",
    "\n",
    "\"------------------------------drop1------------------------------\"\n",
    "drop1(j_glmer4b, test = \"Chisq\")\n",
    "\n",
    "effect(\"connection\", j_glmer4b)\n",
    "\n",
    "plot(effect(\"connection\", j_glmer4b))\n",
    "\n",
    "par(cex.axis = 0.8)\n",
    "\n",
    "options(repr.plot.width = 14, repr.plot.height = 6)"
   ]
  },
  {
   "cell_type": "markdown",
   "id": "dfed5ef9",
   "metadata": {},
   "source": [
    "## 5 Social life\n",
    "\n",
    "### 5.1 Generalised linear mixed-effects model using \"connection\" as a fixed effect and \"sender\" as a random effect, negative binomial"
   ]
  },
  {
   "cell_type": "code",
   "execution_count": 37,
   "id": "068d7899",
   "metadata": {
    "scrolled": true
   },
   "outputs": [
    {
     "data": {
      "text/plain": [
       "Generalized linear mixed model fit by maximum likelihood (Adaptive\n",
       "  Gauss-Hermite Quadrature, nAGQ = 0) [glmerMod]\n",
       " Family: Negative Binomial(1)  ( log )\n",
       "Formula: politics_freq ~ connection + (1 | sender)\n",
       "   Data: jeake_conn\n",
       "\n",
       "     AIC      BIC   logLik deviance df.resid \n",
       "   144.5    165.9    -66.2    132.5      257 \n",
       "\n",
       "Scaled residuals: \n",
       "    Min      1Q  Median      3Q     Max \n",
       "-0.5364 -0.4084 -0.1688  0.0000 13.4599 \n",
       "\n",
       "Random effects:\n",
       " Groups Name        Variance Std.Dev.\n",
       " sender (Intercept) 1.226    1.107   \n",
       "Number of obs: 263, groups:  sender, 31\n",
       "\n",
       "Fixed effects:\n",
       "                             Estimate Std. Error z value Pr(>|z|)\n",
       "(Intercept)                -2.079e+01  4.137e+03  -0.005    0.996\n",
       "connectionBUSINESS; FRIEND  1.950e+01  4.137e+03   0.005    0.996\n",
       "connectionEXTENDED FAMILY   1.874e-03  4.955e+03   0.000    1.000\n",
       "connectionFAMILY            1.744e+01  4.137e+03   0.004    0.997\n",
       "\n",
       "Correlation of Fixed Effects:\n",
       "            (Intr) cBUSIF cEXTEF\n",
       "cBUSINESS;F -1.000              \n",
       "cEXTENDEDFA -0.835  0.835       \n",
       "cnnctFAMILY -1.000  1.000  0.835"
      ]
     },
     "metadata": {},
     "output_type": "display_data"
    },
    {
     "data": {
      "text/html": [
       "'------------------------------dispersion------------------------------'"
      ],
      "text/latex": [
       "'------------------------------dispersion------------------------------'"
      ],
      "text/markdown": [
       "'------------------------------dispersion------------------------------'"
      ],
      "text/plain": [
       "[1] \"------------------------------dispersion------------------------------\""
      ]
     },
     "metadata": {},
     "output_type": "display_data"
    },
    {
     "data": {
      "text/html": [
       "0.615776646025898"
      ],
      "text/latex": [
       "0.615776646025898"
      ],
      "text/markdown": [
       "0.615776646025898"
      ],
      "text/plain": [
       "[1] 0.6157766"
      ]
     },
     "metadata": {},
     "output_type": "display_data"
    },
    {
     "data": {
      "text/html": [
       "'------------------------------drop1------------------------------'"
      ],
      "text/latex": [
       "'------------------------------drop1------------------------------'"
      ],
      "text/markdown": [
       "'------------------------------drop1------------------------------'"
      ],
      "text/plain": [
       "[1] \"------------------------------drop1------------------------------\""
      ]
     },
     "metadata": {},
     "output_type": "display_data"
    },
    {
     "data": {
      "text/html": [
       "<table>\n",
       "<thead><tr><th></th><th scope=col>Df</th><th scope=col>AIC</th><th scope=col>LRT</th><th scope=col>Pr(Chi)</th></tr></thead>\n",
       "<tbody>\n",
       "\t<tr><th scope=row>&lt;none&gt;</th><td>NA        </td><td>144.4771  </td><td>      NA  </td><td>        NA</td></tr>\n",
       "\t<tr><th scope=row>connection</th><td> 3        </td><td>146.0207  </td><td>7.543558  </td><td>0.05644977</td></tr>\n",
       "</tbody>\n",
       "</table>\n"
      ],
      "text/latex": [
       "\\begin{tabular}{r|llll}\n",
       "  & Df & AIC & LRT & Pr(Chi)\\\\\n",
       "\\hline\n",
       "\t<none> & NA         & 144.4771   &       NA   &         NA\\\\\n",
       "\tconnection &  3         & 146.0207   & 7.543558   & 0.05644977\\\\\n",
       "\\end{tabular}\n"
      ],
      "text/markdown": [
       "\n",
       "| <!--/--> | Df | AIC | LRT | Pr(Chi) |\n",
       "|---|---|---|---|---|\n",
       "| <none> | NA         | 144.4771   |       NA   |         NA |\n",
       "| connection |  3         | 146.0207   | 7.543558   | 0.05644977 |\n",
       "\n"
      ],
      "text/plain": [
       "           Df AIC      LRT      Pr(Chi)   \n",
       "<none>     NA 144.4771       NA         NA\n",
       "connection  3 146.0207 7.543558 0.05644977"
      ]
     },
     "metadata": {},
     "output_type": "display_data"
    },
    {
     "data": {
      "text/plain": [
       "\n",
       " connection effect\n",
       "connection\n",
       "BUSINESS; CORRESPONDENT        BUSINESS; FRIEND         EXTENDED FAMILY \n",
       "           9.320508e-10            2.746138e-01            9.337994e-10 \n",
       "                 FAMILY \n",
       "           3.493202e-02 "
      ]
     },
     "metadata": {},
     "output_type": "display_data"
    },
    {
     "ename": "ERROR",
     "evalue": "Error in grid::grid.pretty(range.labels): infinite axis extents [GEPretty(2.22045e-16,inf,5)]\n",
     "output_type": "error",
     "traceback": [
      "Error in grid::grid.pretty(range.labels): infinite axis extents [GEPretty(2.22045e-16,inf,5)]\nTraceback:\n",
      "1. plot(effect(\"connection\", j_glmer5))",
      "2. plot.eff(effect(\"connection\", j_glmer5))",
      "3. make.ticks(ylim, link = trans.link, inverse = trans.inverse, \n .     at = ticks$at, n = ticks$n)",
      "4. grid::grid.pretty(range.labels)"
     ]
    }
   ],
   "source": [
    "j_glmer5 <- glmer(politics_freq ~ connection + (1|sender),\n",
    "                  data=jeake_conn,\n",
    "                  family=negative.binomial(theta=1),\n",
    "                  nAGQ=0L)\n",
    "\n",
    "summary(j_glmer5)\n",
    "\n",
    "\"------------------------------dispersion------------------------------\"\n",
    "dispersion_glmer(j_glmer5)\n",
    "\n",
    "\"------------------------------drop1------------------------------\"\n",
    "drop1(j_glmer5, test = \"Chisq\")\n",
    "\n",
    "effect(\"connection\", j_glmer5)\n",
    "\n",
    "plot(effect(\"connection\", j_glmer5))\n",
    "\n",
    "par(cex.axis = 0.8)\n",
    "\n",
    "options(repr.plot.width = 14, repr.plot.height = 6)"
   ]
  },
  {
   "cell_type": "markdown",
   "id": "3e844b4d",
   "metadata": {},
   "source": [
    "The data is insufficient to run models succesfully, and it doesn't seem to make sense to continue these experiments further."
   ]
  }
 ],
 "metadata": {
  "kernelspec": {
   "display_name": "R",
   "language": "R",
   "name": "ir"
  },
  "language_info": {
   "codemirror_mode": "r",
   "file_extension": ".r",
   "mimetype": "text/x-r-source",
   "name": "R",
   "pygments_lexer": "r",
   "version": "3.6.1"
  }
 },
 "nbformat": 4,
 "nbformat_minor": 5
}
